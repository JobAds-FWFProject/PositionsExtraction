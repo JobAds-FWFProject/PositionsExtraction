{
 "cells": [
  {
   "cell_type": "code",
   "execution_count": 1,
   "id": "5281e2ed-58cd-4792-b455-392deb233e84",
   "metadata": {
    "tags": []
   },
   "outputs": [],
   "source": [
    "import pandas as pd\n",
    "import spacy\n",
    "from spacy import displacy\n",
    "from tqdm import tqdm\n",
    "import json\n",
    "\n",
    "nlp = spacy.load('de_core_news_lg')"
   ]
  },
  {
   "cell_type": "code",
   "execution_count": 2,
   "id": "fa8bd397-9719-4234-8c90-c4cf0079354b",
   "metadata": {
    "tags": []
   },
   "outputs": [],
   "source": [
    "with open('test_data.json', 'r', encoding='utf-8') as f:\n",
    "    testing_data = json.load(f)"
   ]
  },
  {
   "cell_type": "code",
   "execution_count": 3,
   "id": "57dc7b11-1683-427c-9294-84145f71a8ae",
   "metadata": {
    "tags": []
   },
   "outputs": [
    {
     "data": {
      "text/plain": [
       "{'text': 'Gute Köchin neben Stuben mädchen gesucht. 2. Bez., Unt. Donaustr. 29, Tür 11. 21856',\n",
       " 'entities': [[5, 11, 'position']]}"
      ]
     },
     "execution_count": 3,
     "metadata": {},
     "output_type": "execute_result"
    }
   ],
   "source": [
    "testing_data[0]"
   ]
  },
  {
   "cell_type": "code",
   "execution_count": 4,
   "id": "d858d897-2fd0-4fe5-80df-675688df0d42",
   "metadata": {
    "tags": []
   },
   "outputs": [],
   "source": [
    "import requests\n",
    "import re\n",
    "\n",
    "def lemmatize(token):\n",
    "    url = f'https://www.deutschestextarchiv.de/demo/cab/query?a=default&fmt=text&clean=1&pretty=1&raw=1&q={token}'\n",
    "    response = requests.get(url)\n",
    "\n",
    "    if response.status_code == 200:\n",
    "        content = response.text\n",
    "    else:\n",
    "        print(f\"Failed to retrieve the page. Status code: {response.status_code}\")\n",
    "    \n",
    "    match = re.search(r'\\[moot/lemma\\] (\\S+)', content)\n",
    "    if match:\n",
    "        lemma = match.group(1)\n",
    "        return lemma\n",
    "    else:\n",
    "        print(\"The [moot/lemma] tag was not found.\")"
   ]
  },
  {
   "cell_type": "code",
   "execution_count": 5,
   "id": "325af591-ec28-4926-835f-8fbfc1f8bd05",
   "metadata": {
    "tags": []
   },
   "outputs": [
    {
     "name": "stderr",
     "output_type": "stream",
     "text": [
      "100%|████████████████████████████████████████████████████████████████████████████████| 637/637 [08:45<00:00,  1.21it/s]\n"
     ]
    }
   ],
   "source": [
    "predicted_positions = []        \n",
    "        \n",
    "for entry in tqdm(testing_data):\n",
    "    text = entry['text']\n",
    "    positions_row = [] # to store positions within one ad\n",
    "    doc = nlp(text)\n",
    "    position_found = False  # problem: several positions on one ad\n",
    "\n",
    "    if 'Mädchen für Alles' in text:\n",
    "        positions_row.append('Mädchen für Alles')\n",
    "        position_found = True\n",
    "        \n",
    "    elif 'Mädchen für alles' in text:\n",
    "        positions_row.append('Mädchen für alles')\n",
    "        position_found = True\n",
    "        \n",
    "    elif 'Stütze der Hausfrau' in text:\n",
    "        positions_row.append('Stütze der Hausfrau')\n",
    "        position_found = True\n",
    "\n",
    "    elif ' als ' in text.lower() or 'Als ' in text:\n",
    "        index_found = False\n",
    "        for token in list(doc):\n",
    "            if not index_found:\n",
    "                if token.text.lower() == 'als':\n",
    "                    index = token.i\n",
    "                    index_found = True\n",
    "        for i in range(index, len(doc)):\n",
    "            if not position_found: \n",
    "                if doc[i].pos_ == 'NOUN':\n",
    "                    positions_row.append(str(doc[i]))\n",
    "                    position_found = True\n",
    "\n",
    "    elif \"stelle\" in text:\n",
    "        for token in doc:\n",
    "            if not position_found:\n",
    "                if \"stelle\" in token.text:\n",
    "                    positions_row.append(str(token))\n",
    "                    position_found = True\n",
    "\n",
    "    else:\n",
    "        for token in doc:\n",
    "            if not position_found:\n",
    "                if token.pos_ == 'NOUN' and (token.dep_ in ['sb', 'ROOT', 'cj']):\n",
    "                    positions_row.append(str(token))\n",
    "                    position_found = True\n",
    "                    if len(doc) >= token.i + 2:\n",
    "                        if (doc[token.i + 1].text in ['und', 'oder']) and doc[token.i + 2].pos_ == 'NOUN':\n",
    "                            positions_row.append(str(doc[token.i + 2]))\n",
    "                            \n",
    "    for i in range(len(positions_row)):\n",
    "        if 'stelle' in positions_row[i]:\n",
    "            positions_row[i] = positions_row[i].replace('stelle', '')\n",
    "        positions_row[i] = lemmatize(positions_row[i])\n",
    "\n",
    "    predicted_positions.append(positions_row)"
   ]
  },
  {
   "cell_type": "code",
   "execution_count": 6,
   "id": "6a6375fe-6501-4c4a-8f4e-bd0082019b0b",
   "metadata": {
    "tags": []
   },
   "outputs": [
    {
     "name": "stdout",
     "output_type": "stream",
     "text": [
      "[['Kochin'], ['Lehrjunge'], ['Industriewerk'], ['Krankenpflegerin'], ['Gesangaufseher'], ['Gärtner'], ['Lehre'], ['Wagenschmied'], ['Zuschneider'], ['Meierin'], ['Kaufmann'], ['Servierkellnerin'], ['Straßenmeister'], ['Jackennäherin'], ['Rechnungsführer'], ['Schauspieler'], ['Maschinenäherin'], ['Handelsangestellte'], ['Hausknecht'], ['Lehrling'], ['Wäscherin'], ['Suppeleute'], ['Miedernäherin'], ['Nebenbeschäftigung'], ['Mädchen'], ['Lehrknabe'], ['Friseurgeschäft'], ['Kinderfräulein'], ['Verlag'], ['Finanz-Prokurator'], ['Werkshebamme'], ['Maschinenschlosser'], ['Weingroßhandlung'], ['Maschinenäherin', 'Knopflochnäherin'], ['Bankbeamte'], ['Kochin'], ['Lehrjunge'], ['dienstesn'], ['Friseur-Gehilfe'], ['Büglerin', 'Hilfesarbeiterin'], ['Arbeiter'], [], ['Bedienerin'], ['Arbeits-Vermittlung'], ['Wohnung'], ['Arbeiter'], ['Klavierlehrer'], ['gen'], ['Eisendreher', 'Maschinenschlosser'], ['Praktikant'], ['Sattler'], ['Praktikant'], ['Ausfahrer'], ['Kaffee-Versandhaus'], ['Schuhmacher'], ['Alleinkellnerin'], ['Reisende'], ['Kochin'], ['Federnschmückerin'], ['Vorrichter', 'Lehrjunge'], ['Magazineur'], ['Kommis'], ['Stehgeiger'], ['Kleidernäherin'], ['Bäcker-Gehilfe'], ['Schloßgasse'], ['Spenglerlehrling'], ['Stütze'], ['Maschinenäherin'], ['Straßenmeister'], ['Bedienerin'], ['Schneiderin'], ['Knecht'], ['Schlosser'], ['Bäckerlehrling'], ['Gasthaus'], ['Haupt'], ['negligearbeiterinnen'], ['Kellnerin'], ['Lehrknabe'], ['Nachtwächter'], ['Lehrer'], ['Verkäuferin'], ['Rahmenknüpferin'], ['Bautischler'], ['Lebensmittelgroßhandlung'], ['Bedienerin'], ['Hausgehilfein'], ['Offerte'], ['Konditorgehilfe'], ['Stubenmädchen'], ['Büglerin'], ['Buchhalterin'], ['Oberlehrer-Stelle'], ['Kommis'], ['Lehrjunge'], ['Kochin', 'Stubenmädchen'], ['zun'], ['Schauspieler'], ['Ausbildung'], ['Saalkellner'], ['Tapezierergehilfe'], ['Agentur'], ['chenlohn'], ['Kettelstichnäherin'], ['Tüchtige'], ['Mädchen'], ['Ladenmädchen'], ['Kellnerin'], ['Lehrling'], ['Lehrmädchen'], ['Gesellschafterin'], ['Bezirk'], ['Näherin'], ['Bäckerei'], ['Damenfriseur'], ['Wirtschafterin'], ['Stütze'], ['Architekturzeichner'], ['Kommis'], ['Antrag'], ['Straßen-Kolporteur'], ['Konkurs'], ['Raseur-Gehilfe'], ['Kleidermacherin'], ['Mädchen'], ['marzek'], ['Klöppelbetrieb'], ['spenglerge'], ['Barbierlehrling'], ['11576--2'], ['Hausdiener'], ['Nahteinen'], ['Schlaf'], ['Nr.'], ['Hauptfächer'], ['Hausiererin'], ['Tüchtige'], ['Lehrer'], ['Tapezierer-Gehilfe'], ['Dienstmädchen'], ['Stellenausschreibung'], ['Organisten-Stelle'], ['metteur-en-page'], ['Gemeindesekretär'], ['Säger'], ['Sekretärin'], ['Stein'], ['Kindsfrau'], ['Friseur-Gehilfe'], ['Sensenwerk'], ['Schwimmmeister'], ['Tischlergehilfe'], ['Raseur-Gehilfe'], ['Wirtschafterin'], ['Friseurgehilfe'], ['Raseur-Gehilfe'], ['Wirtschaftsmeier'], ['Firma'], ['Lehrerin'], ['Guteingeführte'], ['Schmied'], ['Kunst'], ['Bedienerin'], ['Kindermädchen'], ['Hilfeskraft'], ['Mädchen'], ['Oberlehrer'], ['Lehrer'], ['Börse-Agent'], ['Richter'], ['Erzieher'], ['Bau-Stuckateur'], ['vorzun'], ['Arbeiter'], ['Lehrerin'], ['Bauunternehmung'], ['Verdienst'], ['Kindsmädchen'], ['Förster'], ['Agent'], ['Förster'], ['Mann'], ['Bedienerin'], ['Steindrucker'], ['Konkurs'], ['Eisendreher'], ['Tapeziererlehrling'], ['Goldstickerin'], ['Friseurlehrling', 'Mädchen'], ['Bonne'], ['vorzun'], ['Hilfesarbeiterin', 'Näherin'], ['Hausdiener'], ['Knecht'], ['Bezirk'], ['Uhrmacher-Gehilfe'], ['Meierleute'], ['Wirtschafterin'], ['Chauffeur'], ['Torfstecher'], ['Hausdiener'], ['Mann'], ['Bodenarbeiter'], ['lehrejung'], ['Arbeiter'], ['oeronom'], ['Hilfeskraft'], [], ['elektrcitätswerk', 'dampsäge'], ['Provinz-Agent'], ['Hilfesarbeiterin'], ['cravatennäherinnen'], ['vorzun'], ['Magaziner'], ['vorzun'], ['Bedienerin'], ['Hausmeister'], ['Hausgehilfein'], ['Seidenstickerin'], ['Kuchenlernerin'], ['Modell'], ['Aufseher'], ['Lehrling'], ['Lehre'], ['Agent'], ['Comptoirestin'], ['Suche'], ['Knopflochnäherin'], ['Marktgebiet'], ['Tischler'], ['Mädchen'], ['Verläßliche'], ['Hausgehilfe'], ['Beamte'], ['Wirtschafterin'], ['Knecht'], ['spez'], ['Dienstmädchen'], ['Bedienerin'], ['Stallbursche'], ['Hausmeister'], ['Hotelstubenmädchen'], ['Mädchen'], ['Küchenleiterin', 'Küchenhelferin'], ['Lehrknabe'], ['Erfahrung'], ['Jahr'], ['Kutscher'], ['manchetten'], ['Mädchen'], ['Philologe'], ['Stubenmädchen'], ['Tapezierergehilfe'], ['Postmeister'], ['Bierversilberer'], ['Wilhelmsgasse'], ['Lehrling'], ['Praktikant'], ['Laufmädchen'], ['Reisende'], ['Kochin'], ['Metzger'], ['Baumeister'], ['Maler'], ['Buchbinder'], ['Kindsmädchen'], ['tuchlich'], ['Mädchen'], ['Dienstmädchen'], ['Lehre'], ['Mann'], ['Betriebsbedienerin'], ['Lehrmädchen'], ['Maschinenäherin'], [], ['Praktikant'], ['Mädchen'], ['Kraftfahrer'], ['schaulspieler'], ['Lehrjunge'], ['Kegelbursche'], ['Herrschafts-Diener'], ['Buchbinder-Arbeiterin'], ['Schneidergehilfe'], ['Bedienerin'], ['Lehrknabe'], ['Praktikant'], ['vorzun'], ['Webmeister'], ['Bau-Tischler'], ['Steinbrechermeister'], ['Friseurlehrling'], ['Federnschmückerin'], ['Lehrjunge'], ['Portier'], ['Mädchen'], ['Strickerin'], ['Sesselflechterin'], ['Friseurgeschäft'], ['Kleidernäherin'], ['Arbeiter'], ['Gemischtwarenhändler'], [], ['Friseurgehilfe'], ['vorarheiter'], ['Wirtschafter'], ['Kommis'], ['Knecht'], ['Aufseher'], ['Bürobedienerin'], ['Lehrknabe'], ['Vertreter'], ['Kellnerin'], ['Maschinenäherin'], ['Schlosser'], ['Fabrikschlosser'], ['Kochin'], ['Mädchen'], ['Tischler'], ['Uhrmachergehilfe'], ['Fassadeputzer'], ['Heizer', 'Maschinist'], ['Lehrknabe'], ['Praktikant'], ['Schriftgießer'], ['Maschinestrickerin'], ['Serviererin'], ['akzeptieren'], ['Tapezierermeister'], ['Serviererin'], ['Herrschaftskochin'], ['Lehrling'], ['Lehrknabe'], ['Hausgehilfein'], ['Näherin'], ['Uhrmacher-Gehilfe'], ['Tischlergehilfe'], ['Forstwarte'], ['Ordinationsgehilfein'], ['Hilfesarbeiterin'], ['Stickermeister'], ['Reitknecht'], ['Näherin'], ['Antrag'], ['Werkführer'], ['Zementarbeiter'], ['Lehrknabe'], ['Maschinenäherin'], ['Zement-Vorarbeiter'], ['Lackierergehilfe'], ['Konditor'], ['Werkmeister'], ['Angestellte'], ['Unterricht'], ['Zimmerpolier'], ['Lehrerin'], ['Herrschaftsdiener'], ['Möbelhaus'], ['Büglerin'], ['Handstickerin'], ['Federnschmückerin'], ['Küchenmädchen'], ['Suche'], ['Kutscher'], ['Gärtner'], ['Riese'], ['Modistin'], ['Friseur-Gehilfe'], ['Verkäuferin'], ['Hausschneiderin'], ['Installateur'], ['Schreiber'], ['Heizer'], ['wirhschafterin'], ['Hausmeister'], ['Werkzeugschlosser'], ['Ingenieur'], ['Maschinenfabrik'], ['Kraft'], ['Vertreter'], ['Lehrerin'], ['Vertreter'], ['Kochin'], ['Kommissionsgänger'], ['Lehrbursche'], ['Mädchen'], ['Seifenhändler'], ['Oberlandesgerichtsratsund'], ['Maschinenäherin'], ['Stütze'], ['Eisendreher'], ['Kleidermacherin'], ['Lehrling'], ['Platzmeister'], ['Mädchen'], ['Tischler-Vorarbeiter'], ['Verschleißerin'], ['Hilfesbuchhalter'], ['Kesselschmiedvorarbeiter'], ['Selcherbursche'], ['Aufnahme'], ['aufgenom'], ['Lehrling'], ['Nahteinen'], ['Kommis'], ['vorzun'], ['Reisespesen', 'Provision'], ['Maschinenäherin'], ['Bäckergehilfe'], ['Kleidermacherin'], ['Hotel'], ['Kleidermacherin'], ['Kommis'], ['Teil'], ['Federnschmückerin'], ['Bäcker'], ['Haushälterin'], ['Stütze'], ['Forstarbeiter'], ['Raseurgehilfe'], ['alt'], ['Bäcker-Gehilfe'], ['Haushälterin'], ['Damenschneiderin'], ['Korkschneider'], ['Magazineur'], ['Maschinentechniker'], ['Vertreter'], ['Verkäuferin'], ['Kanzleioberoffizial'], ['Chauffeur'], ['Stückmeister'], ['Erzieher'], ['Lehre'], ['Tischlergehilfe'], ['Maschinenäherin', 'Vorrichterin'], ['Band'], ['Malergehilfe'], ['Fachbeamtenposten'], ['Konversation'], ['Praktikant'], ['vorzun'], ['Kassierin'], ['Haushälterin'], ['Vertreter', 'Reisende'], ['Hilfesarbeiterin'], ['Posamentiergehilfe'], ['März-Lieferung'], ['Küchengehilfein'], ['Maschinenmeister'], ['Off'], ['Hausgehilfein'], ['Magazineur'], ['Maschinenfabrik'], ['Kaufmann'], ['Reisebeamte'], ['Effektuierung'], ['Hausdiener'], ['Hausierer'], ['Kleidernäherin'], ['Ingenieur'], ['Störnäherin'], ['Reisende'], ['Sekretär'], ['Verkäuferin'], ['Bäckergehilfe'], ['Kommis'], ['Lackierergehilfe'], ['Lehrmädchen'], ['Mädchen'], ['Zimmermädchen'], ['vorzun'], ['Friseur-Gehilfe'], ['Organist'], ['Mädchen'], ['bezirks-'], ['Techniker'], ['Menn'], ['Stütze'], ['Bedienerin'], ['früh-'], ['Lehrjunge'], ['Weißnäherin'], ['Agent'], ['Lehrling'], ['tücht'], ['Knüpferin'], ['Arbeiter'], ['Friseur-Gehilfe'], ['Lehrmädchen'], ['Bauzeichnung'], ['Zahlkellnerin', 'Markörin'], ['Näherin'], ['Mädchen'], ['Büglerin'], ['Tüchtige'], ['vorzun'], ['Kassierin'], ['Stenographielehrer'], ['Praktikant'], ['Agent'], ['Lehrknabe'], ['Verkäuferin'], ['Raseur-Gehilfe'], ['Servierkellnerin'], ['Lehrjunge'], ['Hausmädchen'], ['Gärtner'], ['Tischler'], ['Portier'], ['Oberlehrer'], ['stenogr'], ['Kellnerin'], ['Rechnerin'], ['Mitfahrer'], ['Stütze'], ['Bindergehilfe'], ['männl'], ['Akkord-Maurer', 'Putzer'], ['Lehrer'], ['Schiff'], ['Adjunkt'], ['Lehrknabe'], ['Stelle'], ['Lehrer'], ['Stubenmädchen'], ['Geschäftsdiener'], ['Buchhalterin'], ['Lehrbursche'], ['Dame'], ['zun'], ['vorzun'], ['Rasiergehilfe'], ['Suche'], ['Zuschrift'], ['Knopflochnäherin'], ['Stenotypistin'], ['Geschäft'], ['Suche'], ['Stellmacher'], ['Schlosser'], ['Stubenmädchen'], ['Tüchtige'], ['Vermittlungs-Bureau'], ['Verpflegung'], ['Haararbeiterin'], ['Kellnerin'], ['Lehrling'], ['Kleidernäherin'], ['Lehrerin'], ['Kinderfräulein'], ['Büglerin'], ['Ziegel-Maurer'], ['Bedienerin'], ['Lehrling'], ['Bindergehilfe'], ['Schriftenmaler'], ['Arbeitsamt'], ['Zeitungsausträgerin'], ['Maschinestrickerin'], ['Kleidermacherin'], ['Kochlernerin'], ['Modelltischler'], ['Maschinenmeister'], ['Wollezeile'], ['Arbeit'], ['Stelle-Gesuch'], ['Friseurgehilfe'], ['Hausgehilfein'], ['Gärtner'], ['Gesellschafterin'], ['Kettenstichstickerin'], ['Gemeindearzt'], ['Schafwollehäkelerin'], ['Agent'], ['Reisebegleiterin'], ['Lehrling'], ['Kinderfrau'], ['Praktikant'], ['Meisterin'], ['enaiseurin'], ['Ge'], ['Wirtschafterin'], ['Braugehilfe'], ['Lehrling'], ['Anzeige'], ['Kutscher'], ['hanshälterin'], ['Kutscher'], ['Anzeige'], ['Geschäftsdiener'], ['Haupt'], ['Maschine-Arbeiter'], ['Mädchen'], ['Zuschrift'], ['haupt-'], ['Seilergehilfe'], ['Dame'], ['Lehre'], ['Provisions-Reisende'], ['Hilfesarbeiter'], ['Tischlergehilfe'], ['Reisende'], ['Geschäftsführung'], ['Forstpraktikant'], ['Aushilfe'], ['Forsteleve'], ['Kommis'], ['Kochin'], ['Maschinenäherin'], ['Stütze'], ['Lehre'], [], ['Buchbinder'], ['Kommis'], ['volonlair'], ['retoucheur'], ['Einschlägerin'], ['Lehrling'], ['Schmiede-Gehilfe'], ['hausschneiderein'], ['schreibersn'], ['Kontorist'], ['Schulleiter'], ['Wirtschafter'], ['supplenten'], ['Magazineur'], ['Agentur'], ['Geschäftsleiter'], ['Lehrmädchen'], ['Hausmeister'], ['vorzun'], ['Lehrer'], ['commune'], ['Gasse'], ['Wirtschafterin']]\n"
     ]
    }
   ],
   "source": [
    "print(predicted_positions)"
   ]
  },
  {
   "cell_type": "code",
   "execution_count": 7,
   "id": "4faa3c38-3cbb-4650-a597-2466ca5ed863",
   "metadata": {
    "tags": []
   },
   "outputs": [
    {
     "name": "stderr",
     "output_type": "stream",
     "text": [
      "100%|████████████████████████████████████████████████████████████████████████████████| 637/637 [11:24<00:00,  1.07s/it]\n"
     ]
    }
   ],
   "source": [
    "annotated_positions = []\n",
    "\n",
    "for entry in tqdm(testing_data):    \n",
    "    annotated_positions_row = [entry['text'][start:end] for start, end, _ in entry['entities']]\n",
    "    \n",
    "    for i in range(len(annotated_positions_row)):\n",
    "        if 'stelle' in annotated_positions_row[i]:\n",
    "            annotated_positions_row[i] = annotated_positions_row[i].replace('stelle', '')\n",
    "        annotated_positions_row[i] = lemmatize(annotated_positions_row[i])\n",
    "    \n",
    "    annotated_positions.append(annotated_positions_row)"
   ]
  },
  {
   "cell_type": "code",
   "execution_count": 8,
   "id": "3cf37daa-d775-482a-b022-0807d21ccfd7",
   "metadata": {
    "tags": []
   },
   "outputs": [
    {
     "name": "stdout",
     "output_type": "stream",
     "text": [
      "[['Kochin'], ['Lehrjunge'], ['Krankenschwester'], ['Hebamme', 'Krankenpflegerin'], ['Gesangaufseher'], ['Gärtner'], ['Lehre'], ['Wagenschmied'], ['Zuschneider'], ['Meierin'], ['Kaufmann'], ['Servierkellnerin'], ['Straßenmeister'], ['Jackennäherin'], ['Kassier', 'Rechnungsführer', 'Hausadministrator', 'Staatsbeamte'], ['Schauspieler'], ['Maschinenäherin', 'Vorrichterin', 'Knopflochnäherin'], ['Handelsangestellte'], ['Hausknecht'], ['Lehrling'], ['Wäscherin'], ['supplenten'], ['Miedernäherin'], ['Schreibe'], ['Mädchen'], ['Lehrknabe'], ['Friseurgehilfe'], ['Kinderfräulein'], ['Vertreter'], ['Finanz-Prokurator'], ['Werkshebamme'], ['Maschinenschlosser'], ['Vertreter'], ['Maschinenäherin', 'Knopflochnäherin'], ['Bankbeamte'], ['Kochin'], ['Lehrjunge'], ['kontrolorspostens', 'Amtsschreibersposten'], ['Friseur-Gehilfe'], ['Büglerin', 'Hilfesarbeiterin'], ['Schlosser'], ['Bonne', 'Haushälterin'], ['Bedienerin'], ['Maler', 'Anstreicher', 'Lackierer'], ['Stallbursch'], ['Kommis'], ['Klavierlehrer'], ['Automonteur', 'Chauffeur'], ['Eisendreher', 'Maschinenschlosser'], ['Praktikant'], ['Sattler'], ['Praktikant'], ['Ausfahrer'], ['Agent'], ['Schuhmacher'], ['Kellnerin', 'Alleinkellnerin', 'Markörin'], ['Reisende'], ['Kochin'], ['Federnschmückerin'], ['Vorrichter', 'Lehrjunge'], ['Magazineur'], ['Kommis'], ['Geiger', 'Stehgeiger', 'Geigerin', 'Cellistin', 'Pianistin'], ['Kleidernäherin'], ['Bäcker-Gehilfe'], ['Malergehilfe'], ['Spenglerlehrling'], ['Stütze'], ['Maschinenäherin', 'Vorrichterin'], ['Straßenmeister'], ['Küchenmädchen', 'Bedienerin'], ['Schneiderin'], ['Knecht'], ['Schlosser', 'Kesselschmied', 'Vorarbeiter'], ['Bäckerlehrling'], ['Kochin'], ['Turnlehrer', 'Lehre', 'Lehre', 'Lehre'], ['negligearbeiterinnen'], ['Kellnerin'], ['Lehrknabe'], ['Nachtwächter'], ['Religionslehrer', 'Lehrer', 'Lehrer', 'Unterlehrer', 'Unterlehrer', 'Unterlehrer', 'Unterlehrer', 'Unterlehrerin', 'Unterlehrer', 'Unterlehrer'], ['Verkäuferin'], ['Rahmenknüpferin'], ['Bautischler'], ['Müller', 'Vertrauensstellung'], ['Bedienerin'], ['Hausgehilfein'], ['Agent'], ['Konditorgehilfe'], ['Stubenmädchen'], ['Büglerin'], ['Buchhalterin'], ['Oberlehrer-Stelle'], ['Kommis'], ['Lehrjunge'], ['Kochin', 'Stubenmädchen'], ['Kraft'], ['Schauspieler', 'Schauspielerin', 'Musiker'], ['Maurer-Polier'], ['Saalkellner', 'Chefpatissier', 'Konditor', 'Entreskochin', 'Gasthofkochin', 'Pension', 'Restaurationskochin', 'Bratenkochin', 'Servieren', 'Zahlkellnerin', 'Gasthaus', 'Herdmädchen', 'Chefmädchen', 'Geschäftshaus', 'Schankkassierin', 'Kinderstubenmädchen'], ['Tapezierergehilfe'], ['Agent'], ['Schneider', 'Gehilfein'], ['Kettelstichnäherin'], ['Hausgehilfein'], ['Mädchen'], ['Ladenmädchen'], ['Kellnerin', 'Biermädchen'], ['Lehrling'], ['Kleidermacherin', 'Lehrmädchen'], ['Gesellschafterin', 'Reisebegleiterin'], ['Kartonage-Arbeiterin'], ['Näherin'], ['Lehrknabe'], ['Damenfriseur'], ['Wirtschafterin'], ['Hausgehilfein'], ['Architekturzeichner'], ['Kommis'], ['Praktikanten-Posten'], ['Straßen-Kolporteur'], ['Katechet'], ['Raseur-Gehilfe'], ['Kleidermacherin'], ['Mädchen'], ['Monogramm-Prägerin'], ['Fachmann'], ['Lehrling'], ['Barbierlehrling'], ['Ofenarbeiter'], ['Hausdiener'], ['Nahteinen'], ['Tischlerlehrling'], ['Hebamme'], ['Lehre'], ['Hausiererin'], ['Senn'], ['Lehrer', 'Unterlehrer', 'Unterlehrer', 'Unterlehrer', 'Lehrerin'], ['Tapezierer-Gehilfe'], ['Dienstmädchen'], ['Direktor'], ['Organisten-Stelle'], ['metteur-en-page'], ['Gemeindesekretär'], ['Säger'], ['Sekretärin'], ['Buchbindergehilfe'], ['Kindsfrau'], ['Friseur-Gehilfe'], ['Betriebsbeamte'], ['Schwimmmeister'], ['Tischlergehilfe'], ['Raseur-Gehilfe'], ['Wirtschafterin', 'Kochin'], ['Friseurgehilfe'], ['Raseur-Gehilfe'], ['Wirtschaftsmeier'], ['Vertreter'], ['Lehrerin', 'Industrielle-Lehrerin'], ['Vertreter'], ['Schmied'], ['Metall-Gießer'], ['Bedienerin'], ['Kindermädchen'], ['Hilfeskraft'], ['Mädchen'], ['Oberlehrer'], ['Lehrer'], ['Börse-Agent'], ['Senatsvorsitzendenposten', 'Richterposten'], ['Erzieher'], ['Bau-Stuckateur'], ['Handdrucker', 'Formstecher'], ['Lackierer'], ['Lehrerin'], ['Maurer'], ['Akquisiteur'], ['Kindsmädchen'], ['Förster', 'Leibjäger', 'Forst', 'Leibjäger', 'Beschließerin'], ['Agent'], ['Förster', 'Landesgerichtsrat'], ['Mesner', 'Schneider'], ['Bedienerin'], ['Steindrucker'], ['Unterlehrer'], ['Eisendreher'], ['Tapeziererlehrling'], ['Goldstickerin'], ['Friseurlehrling'], ['Bonne'], ['Kochin'], ['Hilfesarbeiterin', 'Näherin'], ['Hausdiener'], ['Knecht'], ['Tischlerlehrling'], ['Uhrmacher-Gehilfe'], ['Meierleute'], ['Wirtschafterin'], ['Chauffeur'], ['Torfstecher', 'Akkordarbeiter'], ['Krankenwärter', 'Hausdiener'], ['Reisende'], ['Bodenarbeiter'], ['lehrejung'], ['Wagenschmied', 'Arbeiter'], ['Ökonom'], ['Hilfeskraft'], ['Maurer'], ['Säge-Verwalter'], ['Provinz-Agent'], ['Hilfesarbeiterin'], ['cravatennäherinnen'], ['Lehrmädchen', 'Praktikantin'], ['Magaziner'], ['Bediente', 'Stubenmädchen'], ['Bedienerin'], ['Hausmeister'], ['Hausgehilfein'], ['Seidenstickerin'], ['Kuchenlernerin'], ['Modell'], ['Aufseher'], ['Lehrling'], ['Lehrer', 'Unterlehrer'], ['Agent'], ['Comptoirestin', 'Kassierin'], ['Bindergehilfe', 'Weißbinder'], ['Knopflochnäherin'], ['Austrägerin', 'Austräger'], ['Tischler'], ['Kochin', 'Mädchen', 'Stubenmädchen'], ['Hilfe'], ['Hausgehilfe'], ['Beamte'], ['Wirtschafterin'], ['Knecht'], ['Kommis'], ['Dienstmädchen'], ['Bedienerin'], ['Stallbursche'], ['Gärtner', 'Hausmeister'], ['Hotelstubenmädchen'], ['Mädchen'], ['Küchenleiterin', 'Küchenhelferin'], ['Lehrknabe'], ['Instruktor'], ['Maschinenwärter'], ['Kutscher'], ['Büglerin'], ['Mädchen'], ['Philologe'], ['Stubenmädchen'], ['Tapezierergehilfe', 'Holzbildhauer'], ['Postmeister', 'Manipulationsbeihilfe', 'Straßeneinräumer'], ['Bierversilberer'], ['Jackennäherin'], ['Lehrling'], ['Praktikant'], ['Laufmädchen'], ['Reisende'], ['Kochin', 'Wirtschafterin'], ['Metzger'], ['Baumeister'], ['Maler', 'Lehrling'], ['Buchbinder'], ['Kindsmädchen'], ['Kochin'], ['Mädchen'], ['Dienstmädchen'], ['Lehre'], ['Stenograph', 'Maschinenschreiber'], ['Betriebsbedienerin'], ['Lehrmädchen'], ['Maschinenäherin'], ['Konditor-Gehilfe'], ['Praktikant'], ['Mädchen'], ['Kraftfahrer', 'Autoelektriker'], ['schaulspieler'], ['Lehrjunge'], ['Kegelbursche'], ['Herrschafts-Diener'], ['Buchbinder-Arbeiterin'], ['Schneidergehilfe'], ['Bedienerin'], ['Lehrknabe'], ['Praktikant'], ['Kochin'], ['Webmeister', 'Schlosser'], ['Bau-Tischler'], ['Steinbrechermeister', 'Schmied'], ['Friseurlehrling'], ['Federnschmückerin'], ['Lehrjunge'], ['Portier'], ['Mädchen'], ['Strickerin'], ['Sesselflechterin'], ['Friseurgehilfe'], ['Kleidernäherin'], ['Arbeiter'], ['Kommis', 'Gemischtwarenhändler'], ['Bäckerlehrling'], ['Friseurgehilfe'], ['vorarheite'], ['Wirtschafter'], ['Kommis'], ['Knecht'], ['Aufseher'], ['Bürobedienerin'], ['Lehrknabe'], ['Vertreter'], ['Kellnerin'], ['Maschinenäherin', 'Vorrichterin'], ['Schlosser', 'Dreher'], ['Fabrikschlosser'], ['Kochin'], ['Zuarbeiterin'], ['Tischler'], ['Uhrmachergehilfe'], ['Fassadeputzer'], ['Heizer', 'Maschinist'], ['Lehrknabe'], ['Praktikant'], ['Schriftgießer'], ['Maschinestrickerin'], ['Serviererin', 'Zahlkellnerin'], ['Magaziner'], ['Tapezierermeister'], ['Serviererin'], ['Herrschaftskochin'], ['Lehrling'], ['Lehrknabe'], ['Hausgehilfein'], ['Näherin'], ['Uhrmacher-Gehilfe'], ['Tischlergehilfe'], ['Forstwarte'], ['Ordinationsgehilfein'], ['Hilfesarbeiterin'], ['Stickermeister'], ['Reitknecht', 'Kutscher'], ['Näherin'], ['Haushälterin'], ['Werkführer'], ['Zementarbeiter'], ['Lehrknabe'], ['Maschinenäherin', 'Vorrichterin'], ['Zement-Vorarbeiter'], ['Lackierergehilfe', 'Lehrknabe'], ['Konditor'], ['Werkmeister'], ['Angestellte'], ['Lehrerin'], ['Zimmerpolier'], ['Lehrerin'], ['Herrschaftsdiener'], ['Tapezierergehilfe'], ['Büglerin', 'Lehrmädchen', 'Einstärker'], ['Handstickerin'], ['Federnschmückerin'], ['Küchenmädchen'], ['Chefkochin'], ['Kutscher'], ['Gärtner'], ['Agent'], ['Modistin'], ['Friseur-Gehilfe'], ['Verkäuferin'], ['Hausschneiderin'], ['Installateur'], ['Schreiber'], ['Heizer'], ['wirhschafterin', 'Verkäuferin', 'Probiermamsell'], ['Hausmeister'], ['Werkzeugschlosser'], ['Ingenieur'], ['Meister'], ['Raseur-Gehilfe'], ['Vertreter'], ['Lehrerin', 'Oberlehrer', 'Schulleiter', 'supplenten', 'supplentenn'], ['Vertreter'], ['Kochin'], ['Kommissionsgänger', 'skontist'], ['Lehrbursche'], ['Mädchen'], ['Seifenhändler'], ['Vizepräsidentenposten'], ['Maschinenäherin', 'Vorrichterin'], ['Haushälterin', 'Stütze'], ['Eisendreher'], ['Kleidermacherin'], ['Lehrling'], ['Platzmeister'], ['Mädchen'], ['Tischler-Vorarbeiter', 'Tischler', 'Spezialarbeiter', 'Maschinenarbeiter', 'Zirkularrist', 'Hilfesarbeiter'], ['Verschleißerin'], ['Hilfesbuchhalter'], ['Gießermeister', 'Kesselschmiedvorarbeiter'], ['Selcherbursche'], ['Dreher'], ['Metallschleifer'], ['Lehrling'], ['Nahteinen'], ['Kommis'], ['Austrägerin'], ['Inspektor'], ['Maschinenäherin'], ['Bäckergehilfe'], ['Kleidermacherin'], ['Antiquitäten-Möbeltischler'], ['Kleidermacherin'], ['Kommis'], ['Bauführer'], ['Federnschmückerin'], ['Bäcker'], ['Haushälterin', 'Hausgenossein'], ['Haushälterin', 'Stütze'], ['Forstarbeiter', 'Maurer'], ['Raseurgehilfe', 'Raseur'], ['Bäcker'], ['Bäcker-Gehilfe', 'Lehrknabe'], ['Haushälterin'], ['Damenschneiderin'], ['Korkschneider'], ['Kommis', 'Magazineur'], ['Maschinentechniker'], ['Vertreter'], ['Verkäuferin'], ['Kanzleioberoffizial'], ['Chauffeur', 'Mechaniker'], ['Stückmeister'], ['Erzieher', 'Korrepetitor'], ['Lehrer', 'Unterlehrer'], ['Tischlergehilfe'], ['Maschinenäherin', 'Vorrichterin'], ['Reisende'], ['Malergehilfe'], ['Fachbeamtenposten'], ['Auslandskaufmann'], ['Praktikant'], ['Hilfeskraft'], ['Kassierin'], ['Haushälterin'], ['Vertreter', 'Reisende'], ['Hilfesarbeiterin', 'Filmkleberin'], ['Posamentiergehilfe', 'Stuhlarbeiter'], ['Sticker'], ['Bedienerin', 'Küchengehilfein'], ['Maschinenmeister', 'Drucker'], ['Kochin'], ['Hausgehilfein'], ['Magazineur'], ['Schlosser'], ['Kaufmann'], ['Reisebeamte', 'Agent'], ['Börse-Agent'], ['Hausdiener', 'Herrendiener', 'Hausschneider'], ['Hausierer'], ['Kleidernäherin'], ['Ingenieur'], ['Störnäherin'], ['Reisende'], ['Sekretär'], ['Verkäuferin'], ['Bäckergehilfe', 'Schwarzmischer'], ['Kommis'], ['Lackierergehilfe'], ['Lehrmädchen'], ['Mädchen'], ['Zimmermädchen'], ['Maschinenschlosser', 'Automatenschlosser'], ['Friseur-Gehilfe'], ['Organist', 'Chorallehrer', 'Chorregent'], ['Mädchen'], ['Arztesposten'], ['Techniker'], ['Buchhalter'], ['Stütze'], ['Bedienerin'], ['professeur'], ['Lehrjunge'], ['Weißnäherin'], ['Agent'], ['Lehrling'], ['Kontorfräulein'], ['Knüpferin'], ['Arbeiter'], ['Friseur-Gehilfe'], ['Lehrmädchen'], ['Binder'], ['Zahlkellnerin', 'Markörin'], ['Näherin'], ['Mädchen'], ['Büglerin', 'Wäscherin'], ['Bäckergehilfe'], ['Mitfahrer'], ['Kassierin'], ['Stenographielehrer'], ['Rastrierer', 'Praktikant'], ['Agent'], ['Lehrknabe'], ['Verkäuferin'], ['Raseur-Gehilfe'], ['Servierkellnerin'], ['Lehrjunge'], ['Hausmädchen'], ['Gärtner'], ['Tischler'], ['Portier'], ['Oberlehrer'], ['Kanzleibeamte', 'Stenogr'], ['Kellnerin'], ['Rechnerin'], ['Mitfahrer'], ['Stütze'], ['Bindergehilfe'], ['Bürohilfeskraft'], ['Akkord-Maurer', 'Putzer'], ['religlonslehrers', 'Lehrer', 'Lehrer', 'Unterlehrer', 'Unterlehrer', 'Unterlehrer', 'Unterlehrer', 'unterlehrerin-', 'Unterlehrer', 'Unterlehrer'], ['Marine-Artillerie'], ['Steuereinnehmer'], ['Lehrknabe'], ['Zimmergärtner'], ['Lehrer'], ['Stubenmädchen'], ['Hausmeister', 'Geschäftsdiener'], ['Buchhalterin'], ['Lehrbursche'], ['Hebamme'], ['Hausgehilfein'], ['Hausbesorgerposten'], ['Rasiergehilfe'], ['Bindergehilfe'], ['Kesselwärter'], ['Knopflochnäherin'], ['Fakturist', 'Stenotypistin'], ['Geschäft', 'skontist', 'Magazineur', 'Kanzlei', 'Kondukteur'], ['Diener'], ['Schreiner', 'Stellmacher', 'Wagner'], ['Schlosser'], ['Stubenmädchen', 'Kindermädchen'], ['Schlosser'], ['Hofmeister', 'Lehrer', 'Gesellschafter', 'Vorleser', 'Buchhalter', 'kommen', 'Schreiber', 'Reisende', 'Kommis', 'Magazineur', 'Prag', 'Hofbesorger', 'Fabriksaufseher', 'Hausmeister', 'haus-', 'Ladendiener'], ['Bäckerlehrling'], ['Haararbeiterin'], ['Kellnerin'], ['Lehrling'], ['Kleidernäherin'], ['Lehrerin'], ['Kinderfräulein'], ['Büglerin'], ['Ziegel-Maurer'], ['Bedienerin'], ['Lehrling'], ['Bindergehilfe'], ['Schriftenmaler'], ['Strickerin', 'Instrumentarena', 'Operationsschwester', 'Hand'], ['Zeitungsausträgerin'], ['Maschinestrickerin'], ['Kleidermacherin'], ['Kochlernerin', 'Zimmermädchen'], ['Modelltischler'], ['Maschinenmeister', 'Drucker'], ['Bürobedienerin'], ['Hausarbeiter'], ['Käser'], ['Friseurgehilfe'], ['Hausgehilfein'], ['Gärtner'], ['Gesellschafterin', 'Reisebegleiterin'], ['Kettenstichstickerin'], ['Gemeindearzt'], ['Schafwollehäkelerin'], ['Agent'], ['Reisebegleiterin'], ['Lehrling'], ['Bedienerin', 'Kinderfrau'], ['Praktikant', 'Volontär'], ['Meisterin'], ['enaiseurin'], ['ge', 'Comptoirist', 'Magazineur', 'Kassier'], ['Wirtschafterin'], ['Braugehilfe'], ['Lehrling'], ['Verkäufer'], ['Kutscher'], ['hanshälterin', 'Kochin', 'Stütze'], ['Kutscher'], ['Gefertigte', 'Tischler', 'Furnierhändler'], ['Geschäftsdiener', 'Hilfeskraft'], ['Lehre'], ['Rundschneider', 'Maschine-Arbeiter', 'Vorschneider'], ['Mädchen'], ['Schmied'], ['haupt-'], ['Seilergehilfe'], ['Hebamme'], ['Lehre'], ['Provisions-Reisende'], ['Hilfesarbeiter'], ['Tischlergehilfe'], ['Agent', 'Reisende'], ['Fachmann'], ['Forstpraktikant'], ['Knecht'], ['Forsteleve'], ['Kommis'], ['Kochin'], ['Maschinenäherin'], ['Dienstmädchen', 'Stütze'], ['Katechet', 'Lehrer', 'Lehrer', 'Lehrer', 'Unterlehrer'], ['Wagner'], ['Buchbinder'], ['Kommis'], ['volonlair', 'Praktikant'], ['retoucheur'], ['Kartonage-Arbeiterin', 'Einschlägerin'], ['Lehrling'], ['Schmiede-Gehilfe'], ['hausschneiderein'], ['Offizial'], ['Kontorist'], ['Schulleiter', 'Unterlehrer', 'Volksschule-Unterlehrer', 'Volksschuleunterlehrer'], ['Wirtschafter'], ['supplenten'], ['Kommis', 'Magazineur'], ['Agent'], ['Friseur-Gehilfe', 'Geschäftsleiter'], ['Lehrmädchen'], ['Hausmeister'], ['Pianist'], ['Lehrer'], ['Beamte', 'Aufseher'], ['Rahmenknüpferin'], ['Wirtschafterin']]\n"
     ]
    }
   ],
   "source": [
    "print(annotated_positions)"
   ]
  },
  {
   "cell_type": "code",
   "execution_count": 9,
   "id": "ab7df5c7-ad2e-421e-a6df-b6812a6666df",
   "metadata": {
    "tags": []
   },
   "outputs": [],
   "source": [
    "import pandas as pd\n",
    "from rapidfuzz import process, fuzz, distance\n",
    "\n",
    "def conf_mat(pos_list, pred_list, shared_set):\n",
    "    true_pos = 0\n",
    "    false_pos = 0\n",
    "    false_neg = 0\n",
    "    for el in shared_set:\n",
    "        pos_match, pos_score, _ = process.extractOne(el, pos_list, scorer=distance.Levenshtein.normalized_similarity)\n",
    "        pred_match, pred_score, _ = process.extractOne(el, pred_list, scorer=distance.Levenshtein.normalized_similarity)\n",
    "        if pos_score >= 0.9 and pred_score >= 0.9:\n",
    "            true_pos += 1\n",
    "        elif pos_score >= 0.9 and pred_score < 0.9:\n",
    "            false_neg += 1\n",
    "        elif pos_score < 0.9 and pred_score >= 0.9:\n",
    "            false_pos += 1\n",
    "    return true_pos, false_pos, false_neg\n",
    "\n",
    "tp_list = []\n",
    "fp_list = []\n",
    "fn_list = []\n",
    "\n",
    "for predicted, annotated in zip(predicted_positions, annotated_positions):\n",
    "    shared_set = set(annotated + predicted)\n",
    "\n",
    "    if len(predicted) > 0:\n",
    "        true_pos, false_pos, false_neg = conf_mat(annotated, predicted, shared_set)\n",
    "    else:\n",
    "        true_pos, false_pos, false_neg = (0, 0, len(shared_set))\n",
    "    tp_list.append(true_pos)\n",
    "    fp_list.append(false_pos)\n",
    "    fn_list.append(false_neg)\n",
    "\n",
    "con_pred_df = pd.DataFrame()\n",
    "con_pred_df['true_positive'] = tp_list\n",
    "con_pred_df['false_positive'] = fp_list\n",
    "con_pred_df['false_negative'] = fn_list"
   ]
  },
  {
   "cell_type": "code",
   "execution_count": 10,
   "id": "6e54213c-f391-4e8a-af0a-b56d26ac3ee9",
   "metadata": {
    "tags": []
   },
   "outputs": [
    {
     "name": "stdout",
     "output_type": "stream",
     "text": [
      "     true_positive  false_positive  false_negative\n",
      "0                1               0               0\n",
      "1                1               0               0\n",
      "2                0               1               1\n",
      "3                1               0               1\n",
      "4                1               0               0\n",
      "..             ...             ...             ...\n",
      "632              0               1               1\n",
      "633              1               0               0\n",
      "634              0               1               2\n",
      "635              0               1               1\n",
      "636              1               0               0\n",
      "\n",
      "[637 rows x 3 columns]\n"
     ]
    }
   ],
   "source": [
    "print(con_pred_df)"
   ]
  },
  {
   "cell_type": "code",
   "execution_count": 11,
   "id": "5a8e2168-3df1-406e-8152-69f62777fabc",
   "metadata": {
    "tags": []
   },
   "outputs": [],
   "source": [
    "f1 = (2*con_pred_df['true_positive'].sum())/(2*con_pred_df['true_positive'].sum() + con_pred_df['false_positive'].sum() + con_pred_df['false_negative'].sum())\n",
    "recall = (con_pred_df['true_positive'].sum())/(con_pred_df['true_positive'].sum() + con_pred_df['false_negative'].sum())\n",
    "precision = (con_pred_df['true_positive'].sum())/(con_pred_df['true_positive'].sum() + con_pred_df['false_positive'].sum())"
   ]
  },
  {
   "cell_type": "code",
   "execution_count": 12,
   "id": "746de021-5be4-4f48-b6b8-b9a040697f4a",
   "metadata": {
    "tags": []
   },
   "outputs": [
    {
     "name": "stdout",
     "output_type": "stream",
     "text": [
      "f1:  0.6900742741390952\n",
      "recall:  0.6134453781512605\n",
      "precision:  0.7885802469135802\n"
     ]
    }
   ],
   "source": [
    "print('f1: ', f1)\n",
    "print('recall: ', recall)\n",
    "print('precision: ', precision)"
   ]
  }
 ],
 "metadata": {
  "kernelspec": {
   "display_name": "Python 3 (ipykernel)",
   "language": "python",
   "name": "python3"
  },
  "language_info": {
   "codemirror_mode": {
    "name": "ipython",
    "version": 3
   },
   "file_extension": ".py",
   "mimetype": "text/x-python",
   "name": "python",
   "nbconvert_exporter": "python",
   "pygments_lexer": "ipython3",
   "version": "3.11.5"
  }
 },
 "nbformat": 4,
 "nbformat_minor": 5
}
