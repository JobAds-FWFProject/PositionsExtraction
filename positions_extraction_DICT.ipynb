{
 "cells": [
  {
   "cell_type": "code",
   "execution_count": 1,
   "id": "8693ff1b-5393-43bd-99aa-d754fa1a31c9",
   "metadata": {
    "tags": []
   },
   "outputs": [],
   "source": [
    "import pandas as pd\n",
    "import spacy\n",
    "from spacy import displacy\n",
    "from tqdm import tqdm\n",
    "import json"
   ]
  },
  {
   "cell_type": "code",
   "execution_count": 2,
   "id": "1f06d2f5-ca18-41fd-ae7c-4a02301500bb",
   "metadata": {
    "tags": []
   },
   "outputs": [],
   "source": [
    "import requests\n",
    "import re\n",
    "\n",
    "def lemmatize(token):\n",
    "    url = f'https://www.deutschestextarchiv.de/demo/cab/query?a=default&fmt=text&clean=1&pretty=1&raw=1&q={token}'\n",
    "    response = requests.get(url)\n",
    "\n",
    "    if response.status_code == 200:\n",
    "        content = response.text\n",
    "    else:\n",
    "        print(f\"Failed to retrieve the page. Status code: {response.status_code}\")\n",
    "        return(token)\n",
    "    \n",
    "    match = re.search(r'\\[moot/lemma\\] (\\S+)', content)\n",
    "    if match:\n",
    "        lemma = match.group(1)\n",
    "        return lemma\n",
    "    else:\n",
    "        print(\"The [moot/lemma] tag was not found.\")"
   ]
  },
  {
   "cell_type": "code",
   "execution_count": 3,
   "id": "b476f2cc-8407-4796-8105-0e9cca96a28b",
   "metadata": {
    "tags": []
   },
   "outputs": [],
   "source": [
    "# Load spaCy model for tokenization\n",
    "nlp = spacy.load('de_core_news_lg')"
   ]
  },
  {
   "cell_type": "code",
   "execution_count": 4,
   "id": "00595a94-70ea-41dd-8e5d-a9c9555da248",
   "metadata": {
    "tags": []
   },
   "outputs": [],
   "source": [
    "# Load testing data\n",
    "with open('test_data.json', 'r', encoding='utf-8') as f:\n",
    "    testing_data = json.load(f)"
   ]
  },
  {
   "cell_type": "code",
   "execution_count": 5,
   "id": "b78846f5-48ad-456a-a3ff-0ec7c8db413b",
   "metadata": {
    "tags": []
   },
   "outputs": [],
   "source": [
    "# Load job titles dictionary\n",
    "with open('positions_list_lemmatized.txt', 'r', encoding='ANSI') as f:\n",
    "    positions_dict = [line.strip() for line in f.readlines()]"
   ]
  },
  {
   "cell_type": "code",
   "execution_count": 6,
   "id": "f1a6b3af-ae24-4e65-b641-a80db7145c41",
   "metadata": {
    "tags": []
   },
   "outputs": [
    {
     "data": {
      "text/plain": [
       "{'text': 'Gute Köchin neben Stuben mädchen gesucht. 2. Bez., Unt. Donaustr. 29, Tür 11. 21856',\n",
       " 'entities': [[5, 11, 'position']]}"
      ]
     },
     "execution_count": 6,
     "metadata": {},
     "output_type": "execute_result"
    }
   ],
   "source": [
    "testing_data[0]"
   ]
  },
  {
   "cell_type": "code",
   "execution_count": 7,
   "id": "6f0cce77-32a3-4870-8949-6cf5a3d0ef44",
   "metadata": {
    "tags": []
   },
   "outputs": [
    {
     "data": {
      "text/plain": [
       "'Abdecker'"
      ]
     },
     "execution_count": 7,
     "metadata": {},
     "output_type": "execute_result"
    }
   ],
   "source": [
    "positions_dict[0]"
   ]
  },
  {
   "cell_type": "code",
   "execution_count": 8,
   "id": "2608fbe0-0b9d-4282-84ca-7db75b813486",
   "metadata": {
    "tags": []
   },
   "outputs": [
    {
     "name": "stderr",
     "output_type": "stream",
     "text": [
      "  7%|█████▍                                                                         | 44/637 [19:42<4:01:32, 24.44s/it]"
     ]
    },
    {
     "name": "stdout",
     "output_type": "stream",
     "text": [
      "Failed to retrieve the page. Status code: 500\n"
     ]
    },
    {
     "name": "stderr",
     "output_type": "stream",
     "text": [
      "  7%|█████▌                                                                         | 45/637 [19:53<3:21:42, 20.44s/it]"
     ]
    },
    {
     "name": "stdout",
     "output_type": "stream",
     "text": [
      "Failed to retrieve the page. Status code: 500\n"
     ]
    },
    {
     "name": "stderr",
     "output_type": "stream",
     "text": [
      "  9%|███████▍                                                                       | 60/637 [24:45<2:38:38, 16.50s/it]"
     ]
    },
    {
     "name": "stdout",
     "output_type": "stream",
     "text": [
      "Failed to retrieve the page. Status code: 500\n"
     ]
    },
    {
     "name": "stderr",
     "output_type": "stream",
     "text": [
      " 14%|██████████▉                                                                    | 88/637 [37:07<3:22:34, 22.14s/it]"
     ]
    },
    {
     "name": "stdout",
     "output_type": "stream",
     "text": [
      "Failed to retrieve the page. Status code: 500\n"
     ]
    },
    {
     "name": "stderr",
     "output_type": "stream",
     "text": [
      " 16%|████████████▋                                                                 | 104/637 [41:38<2:44:27, 18.51s/it]"
     ]
    },
    {
     "name": "stdout",
     "output_type": "stream",
     "text": [
      "Failed to retrieve the page. Status code: 500\n"
     ]
    },
    {
     "name": "stderr",
     "output_type": "stream",
     "text": [
      " 28%|█████████████████████▍                                                      | 180/637 [1:12:36<2:41:20, 21.18s/it]"
     ]
    },
    {
     "name": "stdout",
     "output_type": "stream",
     "text": [
      "Failed to retrieve the page. Status code: 500\n"
     ]
    },
    {
     "name": "stderr",
     "output_type": "stream",
     "text": [
      " 30%|██████████████████████▊                                                     | 191/637 [1:15:58<1:50:41, 14.89s/it]"
     ]
    },
    {
     "name": "stdout",
     "output_type": "stream",
     "text": [
      "Failed to retrieve the page. Status code: 500\n"
     ]
    },
    {
     "name": "stderr",
     "output_type": "stream",
     "text": [
      " 33%|█████████████████████████                                                   | 210/637 [1:21:19<2:00:10, 16.89s/it]"
     ]
    },
    {
     "name": "stdout",
     "output_type": "stream",
     "text": [
      "Failed to retrieve the page. Status code: 500\n"
     ]
    },
    {
     "name": "stderr",
     "output_type": "stream",
     "text": [
      " 47%|███████████████████████████████████▉                                        | 301/637 [1:47:28<1:40:30, 17.95s/it]"
     ]
    },
    {
     "name": "stdout",
     "output_type": "stream",
     "text": [
      "Failed to retrieve the page. Status code: 500\n"
     ]
    },
    {
     "name": "stderr",
     "output_type": "stream",
     "text": [
      " 59%|████████████████████████████████████████████▊                               | 376/637 [2:10:01<1:20:53, 18.59s/it]"
     ]
    },
    {
     "name": "stdout",
     "output_type": "stream",
     "text": [
      "Failed to retrieve the page. Status code: 500\n"
     ]
    },
    {
     "name": "stderr",
     "output_type": "stream",
     "text": [
      " 59%|█████████████████████████████████████████████                               | 378/637 [2:10:37<1:15:27, 17.48s/it]"
     ]
    },
    {
     "name": "stdout",
     "output_type": "stream",
     "text": [
      "Failed to retrieve the page. Status code: 500\n"
     ]
    },
    {
     "name": "stderr",
     "output_type": "stream",
     "text": [
      " 61%|██████████████████████████████████████████████▏                             | 387/637 [2:15:04<1:22:55, 19.90s/it]"
     ]
    },
    {
     "name": "stdout",
     "output_type": "stream",
     "text": [
      "Failed to retrieve the page. Status code: 500\n"
     ]
    },
    {
     "name": "stderr",
     "output_type": "stream",
     "text": [
      " 61%|██████████████████████████████████████████████▋                             | 391/637 [2:16:55<1:43:21, 25.21s/it]"
     ]
    },
    {
     "name": "stdout",
     "output_type": "stream",
     "text": [
      "Failed to retrieve the page. Status code: 500\n"
     ]
    },
    {
     "name": "stderr",
     "output_type": "stream",
     "text": [
      " 63%|███████████████████████████████████████████████▌                            | 399/637 [2:19:08<1:12:21, 18.24s/it]"
     ]
    },
    {
     "name": "stdout",
     "output_type": "stream",
     "text": [
      "Failed to retrieve the page. Status code: 500\n"
     ]
    },
    {
     "name": "stderr",
     "output_type": "stream",
     "text": [
      " 64%|████████████████████████████████████████████████▎                           | 405/637 [2:21:42<1:15:45, 19.59s/it]"
     ]
    },
    {
     "name": "stdout",
     "output_type": "stream",
     "text": [
      "Failed to retrieve the page. Status code: 500\n"
     ]
    },
    {
     "name": "stderr",
     "output_type": "stream",
     "text": [
      " 67%|██████████████████████████████████████████████████▋                         | 425/637 [2:28:01<1:02:02, 17.56s/it]"
     ]
    },
    {
     "name": "stdout",
     "output_type": "stream",
     "text": [
      "Failed to retrieve the page. Status code: 500\n"
     ]
    },
    {
     "name": "stderr",
     "output_type": "stream",
     "text": [
      " 70%|██████████████████████████████████████████████████████▊                       | 448/637 [2:39:10<56:37, 17.98s/it]"
     ]
    },
    {
     "name": "stdout",
     "output_type": "stream",
     "text": [
      "Failed to retrieve the page. Status code: 500\n"
     ]
    },
    {
     "name": "stderr",
     "output_type": "stream",
     "text": [
      " 71%|███████████████████████████████████████████████████████▍                      | 453/637 [2:40:51<56:24, 18.40s/it]"
     ]
    },
    {
     "name": "stdout",
     "output_type": "stream",
     "text": [
      "Failed to retrieve the page. Status code: 500\n"
     ]
    },
    {
     "name": "stderr",
     "output_type": "stream",
     "text": [
      " 76%|█████████████████████████████████████████████████████████▍                  | 481/637 [2:53:29<1:06:16, 25.49s/it]"
     ]
    },
    {
     "name": "stdout",
     "output_type": "stream",
     "text": [
      "Failed to retrieve the page. Status code: 500\n"
     ]
    },
    {
     "name": "stderr",
     "output_type": "stream",
     "text": [
      " 78%|███████████████████████████████████████████████████████████▋                | 500/637 [2:59:55<1:03:02, 27.61s/it]"
     ]
    },
    {
     "name": "stdout",
     "output_type": "stream",
     "text": [
      "Failed to retrieve the page. Status code: 500\n"
     ]
    },
    {
     "name": "stderr",
     "output_type": "stream",
     "text": [
      " 81%|███████████████████████████████████████████████████████████████▍              | 518/637 [3:05:45<40:34, 20.46s/it]"
     ]
    },
    {
     "name": "stdout",
     "output_type": "stream",
     "text": [
      "Failed to retrieve the page. Status code: 500\n"
     ]
    },
    {
     "name": "stderr",
     "output_type": "stream",
     "text": [
      "100%|██████████████████████████████████████████████████████████████████████████████| 637/637 [4:05:56<00:00, 23.17s/it]\n"
     ]
    }
   ],
   "source": [
    "predicted_positions = []\n",
    "exact_matches = ['Mädchen für Alles', 'Mädchen für alles', 'Stütze der Hausfrau']\n",
    "\n",
    "for entry in tqdm(testing_data):\n",
    "    text = entry['text']\n",
    "    positions_row = []\n",
    "    tokens = text.split()\n",
    "    \n",
    "    for exact_match in exact_matches:\n",
    "        if exact_match in text:\n",
    "            positions_row.append(exact_match)\n",
    "\n",
    "    for k in range(len(tokens)):\n",
    "        tokens[k] = lemmatize(tokens[k])\n",
    "        for position_name in positions_dict:\n",
    "            if position_name.lower() in tokens[k].lower():\n",
    "                positions_row.append(tokens[k])\n",
    "                \n",
    "    for i in range(len(positions_row)):\n",
    "        if 'stelle' in positions_row[i]:\n",
    "            positions_row[i] = positions_row[i].replace('stelle', '')\n",
    "            \n",
    "    predicted_positions.append(positions_row)"
   ]
  },
  {
   "cell_type": "code",
   "execution_count": 9,
   "id": "77c2e04d-82b0-4dd3-954f-b6b25f62a6b9",
   "metadata": {
    "tags": []
   },
   "outputs": [
    {
     "name": "stdout",
     "output_type": "stream",
     "text": [
      "[['Kochin', 'Kochin'], ['Lehrjunge'], ['Krankenschwester'], ['Hebamme', 'Krankenpflegerin', 'Krankenpflegerin', 'Krankenpflegerin', 'Krankenpflegerin', 'Krankenpflegerin', 'Krankenpflegerin'], ['Gefangenaufsehers'], ['Gärtner', 'Gärtner'], ['Lehrer', 'leger'], ['Wagenschmied', 'Schmiedmstr'], ['Zuschneider'], ['Meierin', 'Landwirtschaft', 'Landwirtschaft', 'Wirtschastsführung', 'Kochen', 'Meierin'], ['Kaufmann'], ['Servierkellnerin'], ['Straßenmeister', 'Straßenmeister', 'provisorisch', 'Straßenmeister', 'Straßenmeister', 'Unteroffizier', 'Unteroffizier'], ['Jackennäherin'], ['Hausadministrator', 'Hausadministrator', 'Staatsbeamte'], ['Schauspieler'], ['Maschinenäherin', 'Knopflochnäherin'], ['Handelsangestellte', 'Handelsangestellte'], ['Hausknecht', 'Hausknecht'], ['Lehrling'], [], [], ['Miedernäherin'], [], ['Mädchen für Alles', 'Uhrmacher'], ['Lehrknabe'], ['Friseurgeschäft', 'Friseurgehilfe'], ['Stütze'], ['Vertreter'], ['Finanz-Prokurators', 'Doktorgrad', 'Doktorgrad', 'Advokat'], ['Werkshebamme', 'Hebamme'], ['Maschinenschlosser', 'Maschinenschlosser', 'Maschinenschlosser', 'Maschinenschlosser'], ['Vertreter'], ['Maschinenäherin', 'Knopflochnäherin'], ['Bankbeamte', 'Bankbeamte'], ['Kochin', 'Kochin'], ['Lehrjunge'], ['Amtsschreibersposten', 'Amtsschreibersposten', 'Verwalter'], ['Friseur-Gehilfe', 'Friseur'], ['Büglerin', 'Hilfesarbeiterin', 'Hilfesarbeiterin', 'Hilfesarbeiterin', 'Hilfesarbeiterin'], ['Schlosser', 'Schlosser', 'Schlosser', 'Arbeiter', 'Kunstschmiede', 'Schlosserei', 'Schlosserei', 'Schlosserei'], ['Haushälterin'], ['Bedienerin', 'Bedienerin'], ['Maler', 'Anstreicher', 'Lackierer'], [], ['Arbeiter'], ['Klavierlehrer'], ['Automonteur', 'Automonteur', 'Automonteur', 'Automonteur'], ['Spinnerei', 'Eisendreher', 'Eisendreher', 'Eisendreher', 'Maschinenschlosser', 'Maschinenschlosser', 'Maschinenschlosser', 'Maschinenschlosser'], ['Praktikant'], ['Sattler'], ['Kaufmannssohn', 'Praktikant'], [], ['Agent', 'Postnachnahmepaket', 'Beamte', 'Lehrer'], ['Schuhmacher'], ['Kellnerin', 'Alleinkellnerin'], ['Großkaufmann', 'Großkaufmann'], ['Kochin', 'Kochin'], [], ['Lehrjunge'], [], [], ['Kapellmeister'], ['Kleidernäherin', 'Technikerstraße'], ['Bäcker-Gehilfe', 'Bäckerei'], ['Malergehilfe', 'Malergehilfe'], ['Spenglerlehrling', 'Spenglerlehrling'], ['Stütze der Hausfrau', 'Stütze'], ['Maschinenäherin'], ['Straßenmeister', 'Straßenmeister', 'Straßenmeister', 'Straßenmeister', 'Unterbeamte', 'Diener', 'Unterbeamten', 'Straßenmeister', 'Straßenmeister', 'Straßenmeister', 'Straßenmeister', 'Diener', 'Unteroffizier', 'Unteroffizier', 'maurer-', 'zimmermanns-', 'Steinmetz', 'Steinmetz'], ['Bedienerin', 'Bedienerin'], ['Schneiderin', 'Schneiderin'], ['Knecht'], ['Schlosser', 'Schlosser', 'Schlosser', 'Kesselschmied', 'Kesselschmied', 'Vorarbeiter', 'Schmiedgasse'], ['Bäckerlehrling', 'Bäckerlehrling', 'Aufnahme', 'Bäckerei'], ['Kochin', 'Kochin'], ['B.-Lehrerbild', 'Turnlehrer'], ['negligearbeiterinnen', 'negligearbeiterinnen', 'Fuhrmannsgasse'], ['Kellnerin'], ['Lehrknabe', 'Schneiderzugehörhandlung'], ['Nachtwächter', 'Nachtwächter', 'bäckerei-'], ['Religionslehrer', 'Religionslehrer', 'Religionslehrer', 'Lehrer', 'Lehrer', 'Unterlehrer', 'Unterlehrer', 'Unterlehrer', 'Unterlehrer', 'Unterlehrer', 'Unterlehrer', 'Unterlehrer', 'Unterlehrer', 'unterlehrerin-', 'unterlehrerin-', 'unterlehrerin-', 'Unterlehrer', 'Unterlehrer', 'Unterlehrer', 'Unterlehrer'], ['Verkäuferin', 'Verkäuferin', 'Verkäuferin'], [], ['Bautischler', 'Bautischler'], ['Müller'], ['Bedienerin', 'Bedienerin'], ['Hausgehilfein'], ['Agent'], ['Konditorgehilfe'], ['Kochin', 'Kochin'], ['Büglerin', 'Knopflochnäherin'], ['Buchhalterin', 'Buchhalterin'], ['Oberlehrer-Stelle', 'Oberlehrer-Stelle'], [], ['Lehrjunge', 'Dampfbäckerei'], ['Kochin', 'Kochin'], ['Dreher', 'Dreher'], ['Schauspieler', 'Schauspielerin', 'Schauspielerin', 'Bauer'], ['Maurer-Polier'], ['Saalkellner', 'Konditor', 'Entreskochin', 'Entreskochin', 'Gasthofkochin', 'Gasthofkochin', 'Kochin', 'Kochin', 'Restaurationskochin', 'Restaurationskochin', 'Bratenkochin', 'Bratenkochin', 'Zahlkellnerin', 'Kellnerin', 'Kochin', 'Kochin'], ['Tapezierergehilfe'], ['Agentur', 'Agent'], ['Schneider'], ['Kettelstichnäherin'], ['Hausgehilfein'], ['Mädchen für alles'], [], ['Kellnerin'], ['Lehrling', 'Zeichner', 'Porzellan-Malerei'], ['Kleidermacherin', 'Lehrmädchen'], [], ['Kartonage-Arbeiterin', 'Kartonage-Arbeiterin'], ['Näherin', 'Tapezierernäharbeit'], ['Lehrknabe', 'Bäckerei'], ['Damenfriseur'], ['Wirtschafterin', 'Wirtschafterin'], ['Hausgehilfein', 'kochen', 'Landwirtschaft', 'Landwirtschaft', 'Stütze', 'Weber'], ['Architekturzeichner', 'Architekturzeichner'], [], ['Praktikanten-Posten'], ['Aufnahme'], [], ['Friseur'], ['Kleidermacherin'], ['Mädchen für alles'], [], [], ['Lehrling', 'glaser-', 'spenglerge', 'Spengler', 'Glaser'], ['Barbierlehrling', 'Barbierlehrling', 'Friseur'], ['Ofenarbeiter', 'Schwarzbäckerei', 'Brotbäckerei'], ['Hausdiener', 'Hausdiener', 'Unteroffizier', 'Unteroffizier', 'Seilerstätte', 'dicasterial-hausdiener'], ['Nahteinen'], ['Tischlerlehrling', 'Tischlerlehrling'], ['Hebamme'], ['Turnlehrer'], [], [], ['Lehrer', 'Unterlehrer', 'Unterlehrer', 'Unterlehrer', 'Unterlehrer', 'provisorisch', 'Unterlehrer', 'Unterlehrer', 'Unterlehrerinen', 'Unterlehrerinen', 'Unterlehrerinen', 'provisorisch', 'lehrerin', 'lehrerin'], ['Tapezierer-Gehilfe'], ['Dienstmädchen', 'Bäckerei', 'Fischern-Karlsbad'], ['kaufmännisch', 'kaufmännisch', 'kaufmännisch', 'Direktor', 'Direktor', 'Direktor', 'Direktor', 'Direktor', 'Direktor', 'Bürgermeister', 'Bürgermeister'], ['Organisten-Stelle'], ['Buchdruckerei'], ['Gemeindesekretär', 'Gemeindesekretär', 'Notariat', 'advokaturspraxis'], ['Säger'], ['Sekretärin', 'Sekretärin'], ['Buchbindergehilfe', 'Vergolderpresse'], [], ['Friseur-Gehilfe'], ['Betriebsbeamte'], ['Schwimmmeister', 'Bürgermeister'], ['Tischlergehilfe'], ['Friseur'], ['Kochin', 'Kochin', 'Wirtschafterin', 'Wirtschafterin', 'Kochin', 'Kochin'], ['Friseurgehilfe'], ['Friseur'], ['Wirtschaftsmeier', 'Wirtschaftsmeier'], ['Vertreter'], ['Lehrerinen', 'Lehrerinen', 'industrial-lehrerin', 'industrial-lehrerin'], ['Vertreter'], ['Schmied'], [], ['Bedienerin', 'Bedienerin'], [], [], ['kochen'], ['Oberlehrer', 'Oberlehrer'], ['Lehrer', 'Lehrerzeugnis', 'Lehrer'], ['Börse-Agent'], [], [], ['Bildhauerei'], [], ['Lackierer', 'Arbeiter', 'Lackierer'], ['Lehrerin', 'Lehrerin'], ['Maurer'], [], [], ['Förster', 'Leibjäger'], ['Agent'], ['Förster'], ['Mesner', 'Schneider'], ['Bedienerin', 'Bedienerin', 'Wiesbauer'], [], ['Unterlehrer', 'Unterlehrer'], ['Eisendreher', 'Eisendreher', 'Eisendreher'], ['Tapeziererlehrling', 'Tapeziererlehrling'], [], ['Friseurlehrling', 'Friseurlehrling'], [], ['Kochin', 'Kochin', 'Fabrikantenfamilie', 'Fabrikantenfamilie', 'Fabrikantenfamilie'], ['Hilfesarbeiterin', 'Hilfesarbeiterin', 'Hilfesarbeiterin', 'Hilfesarbeiterin', 'Näherin'], ['Hausdiener'], ['Knecht'], ['Tischlerlehrling', 'Tischlerlehrling'], ['Uhrmacher-Gehilfe', 'Uhrmacher'], ['Meierleute', 'Landwirt', 'Landwirt', 'nah'], ['Wirtschafterin', 'Wirtschafterin'], [], ['Akkordarbeiter', 'Mooshäusler'], ['Krankenwärter', 'Hausdiener', 'Schützenhofgasse'], [], ['Bodenarbeiter'], ['Tapezierer', 'nah', 'Jägerzeile', 'Tapezierer'], ['Wagenschmied', 'Arbeiter', 'Hausschmiede', 'Arbeiter'], ['Ökonom', 'Musterwirtschaft'], [], ['Maurer'], ['Säge-Verwalter'], ['Provinz-Agent'], ['Hilfesarbeiterin', 'Hilfesarbeiterin', 'Hilfesarbeiterin', 'Hilfesarbeiterin'], ['cravatennäherinnen'], ['Lehrmädchen', 'Praktikantin', 'Praktikantin'], ['Weberei', 'Unteroffizier', 'Unteroffizier'], ['Bediente', 'Bediente'], ['Bedienerin', 'Bedienerin'], ['Hausmeister', 'Kirschenbauer'], ['Hausgehilfein'], [], ['nah'], ['Maler'], ['Aufsehers'], ['Lehrling'], ['Lehrer', 'Unterlehrer', 'Unterlehrer'], ['Agent', 'Brauerei'], ['kaufmännisch', 'kaufmännisch', 'kaufmännisch'], ['Bindermeister'], ['Knopflochnäherin', 'Ziegler'], [], ['Tischler'], ['Mädchen für alles', 'Kochin', 'Kochin'], [], [], ['Beamte'], ['Wirtschafterin', 'Wirtschafterin', 'kochen'], ['Knecht', 'Melker', 'Brauerei'], [], ['Dienstmädchen'], ['Bedienerin', 'Bedienerin'], [], ['Gärtner', 'Gärtner', 'Hausmeister'], [], ['Mädchen für alles'], [], ['Lehrknabe', 'Friseurgewerbe', 'Friseur'], [], ['Schlossereiwesen', 'Schlossereiwesen', 'Schlossereiwesen'], ['Kutscher'], ['Büglerin'], ['Mädchen für alles', 'kochen'], [], [], ['Tapezierergehilfe', 'Holzbildhauer', 'Holzbildhauer'], ['Postmeister', 'Postmeister', 'Botengang'], ['Brauerei'], ['Jackennäherin'], ['Lehrling', 'nah'], ['Praktikant'], [], [], ['Kochin', 'Kochin', 'Hauswirtschaft', 'Kochin', 'Kochin', 'Wirtschafterin', 'Wirtschafterin', 'nah', 'Hafnergasse', 'Hafnergasse'], ['Metzger'], ['Baumeister'], ['Maler', 'Lehrling', 'Aufnahme', 'Malermeister', 'Malermeister', 'Malermeister'], ['Buchbinder', 'Buchdruckerei'], [], ['Kochin', 'Kochin'], ['Mädchen für Alles', 'Kochin', 'Kochin'], ['kochend', 'Dienstmädchen', 'Diener'], ['Bürgermeisteramt', 'Bürgermeisteramt', 'Bürgermeister'], ['Maschinenschreiber'], ['Betriebsbedienerin', 'Betriebsbedienerin'], ['Lehrmädchen'], ['Maschinenäherin'], ['Konditor-Gehilfe', 'Reiter', 'Reiter'], ['Praktikant'], ['Mädchen für Alles'], ['Kraftfahrer', 'Autoelektriker'], [], ['Lehrjunge'], [], ['Herrschafts-Diener'], ['Buchbinder-Arbeiterin', 'Buchbinder-Arbeiterin', 'Buchbinder-Arbeiterin', 'Buchbinderei'], ['Schneidergehilfe', 'Schneidermeister', 'Schneidermeister', 'Schneidermeister'], ['Bedienerin', 'Bedienerin'], ['Lehrknabe', 'Häusler'], ['Praktikant'], ['Kochin', 'Kochin', 'Reiter', 'Reiter'], ['Webmeister', 'Buntweberei', 'Schlosser', 'Schlosser', 'Schlosser'], ['Bau-Tischler', 'Tischlermeister', 'Tischlermeister', 'Tischlermeister'], ['Steinbrechermeister', 'Steinbrechermeister', 'Arbeiter', 'Schmied', 'Schmiedearbeit'], ['Friseurlehrling', 'Friseurlehrling', 'Friseur'], [], ['Lehrjunge'], ['Portier'], ['Mädchen für Alles'], ['Strickerin', 'Strickerin', 'Neufischer'], [], ['Friseurgeschäft', 'Friseurgehilfe'], ['Kleidernäherin'], ['Arbeiter', 'Weber'], ['Gemischtwarenhändler', 'Gemischtwarenhändler', 'Gemischtwarenhändler', 'Aufnahme'], ['Bäckerlehrling', 'Bäckerlehrling', 'Bäcker'], ['Friseurgehilfe'], ['nahe'], ['Wirtschafter', 'landwirtschaftlich', 'landwirtschaftlich', 'landwirtschaftlich', 'Landwirtschaft', 'Landwirtschaft', 'Fleischbauer'], [], ['Knecht'], ['Aufseher', 'Forstwirtschaft', 'zeibeamte'], ['Bürobedienerin', 'Bürobedienerin'], ['Lehrknabe', 'Lehrermeister', 'Lehrermeister'], ['Vertreter'], ['Kellnerin'], ['Maschinenäherin'], ['Schlosser', 'Schlosser', 'Schlosser', 'Dreher', 'Dreher', 'Weberei'], ['Fabrikschlosser', 'Fabrikschlosser', 'Fabrikschlosser'], ['Kochin', 'Kochin'], ['Zuarbeiterin', 'Zuarbeiterin', 'Spenglerstraße'], ['Tischler'], ['Uhrmachergehilfe'], ['Meister'], ['Heizer', 'Heizer', 'Heizer', 'Maschinist'], ['Lehrknabe', 'Aufnahme'], ['Praktikant', 'Gärtnerei', 'Gärtnerei', 'Gärtner', 'Gärtner'], [], ['Maschinestrickerin', 'Maschinestrickerin'], ['Zahlkellnerin'], [], ['Sattlerrund', 'Tapezierermeister', 'Tapezierermeister'], [], ['Herrschaftskochin', 'Herrschaftskochin', 'Portier'], ['Lehrling'], ['Lehrknabe'], ['Hausgehilfein', 'Kochen'], ['Näherin'], ['Uhrmacher-Gehilfe', 'Uhrmacher', 'Optiker'], ['Tischlergehilfe', 'Arbeiter', 'Arbeiter', 'Bautischlerei', 'Bautischlerei', 'Baumeister'], ['Forstwart'], [], ['Hilfesarbeiterin', 'Hilfesarbeiterin', 'Hilfesarbeiterin', 'Hilfesarbeiterin'], ['Stickermeister', 'Bohrer-Feile', 'Bohrer-Feile'], ['Korporal', 'Reitknecht', 'Reitknecht', 'Kutscher'], ['Näherin'], ['Haushälterin'], ['Werkführer'], ['Zementarbeiter'], ['Lehrknabe', 'Hutmacherei', 'Hutmacher'], ['Maschinenäherin'], ['Zement-Vorarbeiter'], ['Lackierergehilfe', 'Lehrknabe'], ['Konditor', 'Bäckerei', 'tungsagentur'], ['Werkmeister', 'Werkmeister', 'Schlosserei', 'Schlosserei', 'Schlosserei', 'Werkmeister', 'Werkmeister', 'Schlosserei', 'Schlosserei', 'Schlosserei', 'Schmiede', 'Werkmeister', 'Werkmeister', 'Werkmeisterschule', 'Werkmeisterschule', 'schlosserei-', 'schlosserei-', 'schlosserei-', 'Schmiedewerkstätte', 'leger'], ['Kaufmännische', 'Kaufmännische', 'Kaufmännische', 'Angestellte', 'Angestellte', 'Kaufmann', 'Angestellte', 'Angestellte'], ['Lehrerin', 'Lehrerin'], [], ['lehrerin', 'lehrerin'], ['Herrschaftsdiener'], ['Tapezierergehilfe'], ['Büglerin', 'Lehrmädchen'], [], [], ['Kochkenntnis'], ['Chefkochin', 'Chefkochin'], ['Kutscher'], ['Gärtner', 'Gärtner'], ['Agent'], [], ['Friseur-Gehilfe'], ['Verkäuferin', 'Verkäuferin', 'Verkäuferin'], ['Hausschneiderin', 'Hausschneiderin'], ['Installateur', 'Arbeiter'], ['Schreiber', 'nah'], ['Heizer', 'Heizer', 'Heizer'], ['Verkäuferin', 'Verkäuferin', 'Verkäuferin'], ['Hausmeister', 'Gärtner-Arbeit', 'Gärtner-Arbeit', 'Bader'], ['Werkzeugschlosser', 'Werkzeugschlosser', 'Werkzeugschlosser'], ['Ingenieur'], ['landwirtschaftlich', 'landwirtschaftlich', 'landwirtschaftlich', 'Eisengießerei', 'Schmiede', 'Dreherei', 'Dreherei', 'Meister'], [], ['Gastwirt', 'Gastwirt', 'Vertreter'], ['lehrerin', 'lehrerin', 'Magdalena', 'Oberlehrer', 'Oberlehrer'], ['Vertreter', 'Schneider', 'Mitnahme'], ['Kochin', 'Kochin'], [], ['Gärtnerei', 'Gärtnerei', 'Handelsgärtner', 'Handelsgärtner'], ['Mädchen für alles'], ['Seifenhändler', 'Seifenhändler', 'Seifenhändler'], [], ['Maschinenäherin'], ['Stütze der Hausfrau', 'Haushälterin', 'Stütze'], ['Eisendreher', 'Eisendreher', 'Eisendreher'], ['Kleidermacherin'], ['Lehrling', 'Hafnerstraße', 'Hafnerstraße'], ['Platzmeister'], ['Mädchen für Alles'], ['Tischler-Vorarbeiter', 'Tischler-Vorarbeiter', 'Tischler', 'Spezialarbeiter', 'Maschinenarbeiter', 'Maschinenarbeiter', 'Hilfesarbeiter', 'Hilfesarbeiter', 'Großtischlereibetrieb', 'Fischeraugasse'], [], ['Hilfesbuchhalter'], ['Eisengießerei', 'Gießermeister', 'Kesselschmiedvorarbeiter', 'Kesselschmiedvorarbeiter', 'Kesselschmiedvorarbeiter'], ['Landwirt', 'Landwirt'], ['Dreher', 'Dreher', 'Aufnahme', 'Aufnahme'], ['Metallschleifer'], ['Lehrling'], ['Nahteinen'], [], ['Portier'], [], ['Maschinenäherin'], ['Bäckergehilfe'], ['Kleidermacherin'], ['Antiquitäten-Möbeltischler'], ['Kleidermacherin'], [], ['Bauführer', 'Maurer', 'Meistergeschäft'], ['Strohmeiergasse'], ['Bäcker'], ['Ökonom', 'Haushälterin'], ['Stütze der Hausfrau', 'Haushälterin', 'Stütze'], ['Forstarbeiter', 'Forstarbeiter', 'Maurer'], ['Friseur'], ['Bäcker', 'Tafelarbeiter'], ['Bäcker-Gehilfe', 'Lehrknabe'], ['Haushälterin'], ['Damenschneiderin', 'Damenschneiderin', 'Damenschneiderin', 'Schneiderei'], ['Korkschneider'], [], ['Maschinentechniker', 'Zeitungsagentur'], ['Vertreter', 'Schauspieler', 'Agent', 'nah', 'Alleinvertreter'], ['Verkäuferin', 'Verkäuferin', 'Verkäuferin'], [], ['Mechaniker', 'Mechaniker', 'Mechaniker'], ['Stückmeister'], [], ['Lehrer', 'Unterlehrer', 'Unterlehrer'], ['Tischlergehilfe', 'Arbeiter', 'Arbeiter', 'Bautischlerei', 'Bautischlerei', 'Baumeister'], ['Maschinenäherin'], [], ['Malergehilfe', 'Malergehilfe'], ['Fachbeamtenposten', 'Fachbeamtenposten'], ['Auslandskaufmann'], ['Praktikant'], [], [], ['Haushälterin', 'Kochen'], ['Vertreter'], ['Hilfesarbeiterin', 'Hilfesarbeiterin', 'Hilfesarbeiterin', 'Hilfesarbeiterin', 'Jägerstraße'], ['Stuhlarbeiter'], ['Maurer'], ['Bedienerin', 'Bedienerin'], ['Maschinenmeister', 'Maschinenmeister'], ['Kochin', 'Kochin'], ['Hausgehilfein'], ['Aufnahme'], ['Landwirtschaftl', 'Landwirtschaftl', 'Schlosser', 'Schlosser', 'Schlosser', 'Landwirtsch', 'Landwirtsch'], ['Kaufmann'], ['Reisebeamte', 'Agent', 'General-Repräsentanz'], ['Börse-Agent'], ['Hausdiener', 'Herrendiener', 'Hausschneider'], ['glas-'], ['Kleidernäherin'], ['Ingenieur'], ['Störnäherin'], [], ['Sekretär', 'Sekretär', 'Staatsbeamte'], ['Verkäuferin', 'Verkäuferin', 'Verkäuferin'], ['Bäckergehilfe', 'Samenarbeiter', 'nah', 'Bäckerei'], ['Kaufmann'], ['Lackierergehilfe', 'Lehrknabe'], ['Lehrmädchen'], ['Mädchen für alles'], [], ['Maschinenschlosser', 'Maschinenschlosser', 'Maschinenschlosser', 'Maschinenschlosser', 'Automatenschlosser', 'Automatenschlosser', 'Automatenschlosser'], ['Friseur-Gehilfe'], ['Organist', 'Chorallehrer'], ['Mädchen für Alles'], ['aunahme', 'Arzt', 'Stadtarzt', 'Arztesposten', 'Bürgermeisteramt', 'Bürgermeisteramt'], ['Techniker'], ['Buchhalter'], ['Stütze der Hausfrau', 'Bauerntochter', 'Stütze'], ['Bedienerin', 'Bedienerin'], [], ['Lehrjunge', 'Sattlermeister', 'Sattlermeister', 'Sattlermeister'], ['Weißnäherin'], ['Agent', 'Brauerei'], ['Lehrling'], [], [], ['Arbeiter', 'Schriftenmaler'], ['Friseur-Gehilfe'], ['Lehrmädchen'], [], ['Zahlkellnerin'], ['Näherin'], ['Mädchen für alles'], ['Büglerin'], ['Bäckergehilfe', 'Arbeiter'], [], [], ['Stenographielehrer', 'Hafner', 'Hafner'], ['Praktikant'], ['Agent'], ['Lehrknabe', 'Aufnahme'], ['Verkäuferin', 'Verkäuferin', 'Verkäuferin', 'Niedermeier'], [], ['Servierkellnerin'], ['Lehrjunge', 'Buchbinder', 'Arbeiter'], ['Bäckerei'], ['Gärtner', 'Gärtner'], ['Tischler'], ['Portier'], ['Oberlehrer', 'Oberlehrer'], ['Kanzleibeamte', 'advokaten-'], ['Kellnerin'], [], [], ['Stütze der Hausfrau', 'Stütze'], ['Bindermeister'], [], ['Akkord-Maurer', 'Baumeister'], ['religlonslehrers', 'Lehrer', 'Lehrer', 'Unterlehrer', 'Unterlehrer', 'Unterlehrer', 'Unterlehrer', 'Unterlehrer', 'Unterlehrer', 'Unterlehrer', 'Unterlehrer', 'unterlehrerin-', 'unterlehrerin-', 'unterlehrerin-', 'Unterlehrer', 'Unterlehrer', 'Unterlehrer', 'Unterlehrer'], ['Aufnahme'], [], ['Lehrknabe'], ['Zimmergärtner', 'Zimmergärtner'], ['Lehrer'], ['Kochin', 'Kochin'], ['Hausmeister-Ehepaar', 'Geschäftsdiener'], ['Buchhalterin', 'Buchhalterin'], ['Gärtnerei', 'Gärtnerei', 'Handelsgärtner', 'Handelsgärtner'], ['Aufnahme', 'Hebamme'], ['Hausgehilfein'], [], [], ['Bindermeister'], [], ['Knopflochnäherin'], ['Stenotypistin'], ['Diener', 'Kondukteur'], ['Diener'], ['Schreiner', 'Stellmacher'], ['Schlosser', 'Schlosser', 'Schlosser'], [], ['Schlosser', 'Schlosser', 'Schlosser', 'Kunstschlosserei', 'Kunstschlosserei', 'Kunstschlosserei'], ['Hofmeister', 'Hofmeister', 'Lehrer', 'Buchhalter', 'Schreiber', 'Fabriksaufseher', 'Hausmeister', 'Ladendiener'], ['Bäckerlehrling', 'Bäckerlehrling'], ['Haararbeiterin', 'Haararbeiterin'], ['Kellnerin'], ['Lehrling', 'Tischlermeister', 'Tischlermeister', 'Tischlermeister'], ['Kleidernäherin'], ['Lehrer', 'Lehrergesetz', 'Lehrergesetz'], [], ['Büglerin'], ['Ziegel-Maurer', 'Ziegel-Maurer', 'Stadtbaumeister'], ['Bedienerin', 'Bedienerin'], ['Lehrling'], [], ['Schriftenmaler', 'Schriftenmaler'], ['Strickerin', 'Strickerin', 'Schuhschneider'], [], ['Maschinestrickerin', 'Maschinestrickerin', 'Ziegler'], ['Kleidermacherin'], ['Kochlernerin'], ['Modelltischler', 'Modelltischler', 'Modelltischler', 'Modelltischler'], ['Maschinenmeister', 'Maschinenmeister'], ['Bürobedienerin', 'Bürobedienerin'], ['Hausarbeiter', 'Abnahme'], [], ['Friseurgehilfe'], ['Hausgehilfein'], ['Gärtner', 'Gärtner'], [], [], ['Gemeindearzt', 'gemeindearztens'], [], ['Agent', 'Aufnahme'], ['Beamte-Witwe', 'Aufnahme'], ['Lehrling'], ['Bedienerin', 'Bedienerin'], ['Praktikant', 'Arbeiter'], ['Meisterin'], [], ['kaufmännisch', 'kaufmännisch', 'kaufmännisch'], ['Wirtschafterin', 'Wirtschafterin'], ['Brauerei-Fachmann', 'Dampfbrauerei'], ['Lehrling', 'Schlosser', 'Schlosser', 'Schlosser'], ['Verkäufer', 'Verkäufer'], ['Kutscher'], ['Kochin', 'Kochin', 'Kochin', 'Kochin', 'Stütze'], ['Kutscher', 'Bäckergeschäft', 'Bäckermeister', 'Bäckermeister', 'Bäckermeister', 'Bäckergeschäft'], ['Tischler', 'Furnierhändler', 'Furnierhändler', 'Furnierhändler'], ['Geschäftsdiener'], [], ['Rundschneider', 'Maschine-Arbeiter', 'Vorschneider'], ['Mädchen für alles'], ['Schmied'], [], ['Seilergehilfe', 'Seilerei'], ['Hebamme'], ['Konditor'], ['Köhler'], ['Hilfesarbeiter', 'Hilfesarbeiter'], ['Tischlergehilfe', 'Tischler', 'Meister'], ['Agent'], [], ['Forstpraktikant'], ['Knecht'], [], ['Weber'], ['Kochin', 'Kochin', 'kochen', 'Apotheker'], ['Maschinenäherin'], ['Stütze der Hausfrau', 'Dienstmädchen', 'Stütze'], ['Lehrer', 'Lehrer', 'Lehrer', 'Unterlehrer', 'Unterlehrer'], [], ['Buchbinder', 'Buchdruckerei'], [], ['Praktikant'], ['retoucheur', 'retoucheur'], ['Kartonage-Arbeiterin', 'Kartonage-Arbeiterin'], ['Lehrling', 'Glasmaler', 'Glasmaler', 'Kunstglasermeister', 'Kunstglasermeister', 'Kunstglasermeister'], ['Schmiede-Gehilfe'], ['hausschneiderein', 'Arbeiterin', 'Arbeiterin'], ['Schreibers', 'provisorisch', 'provisorisch', 'Finanzbeamte'], ['Kontorist', 'Kontorist', 'Maschinschreiber'], ['Unterlehrer', 'Unterlehrer', 'Volksschule-Unterlehrer', 'Volksschule-Unterlehrer', 'Volksschuleunterlehrer', 'Volksschuleunterlehrer', 'nahorschetitz', 'provisorisch', 'Unterlehrer', 'Unterlehrer', 'provisorisch', 'provisorisch', 'Handarbeitslehrerin', 'Handarbeitslehrerin', 'Handarbeitslehrerin'], ['Wirtschafter', 'Landwirtschaft', 'Landwirtschaft', 'Landwirtschaft', 'Landwirtschaft'], [], [], ['Agentur', 'Agent'], ['Friseur-Gehilfe', 'Friseur'], ['Lehrmädchen'], ['Arbeiter-Kolonie', 'Hausmeister'], ['Müller'], ['Lehrer', 'Zigeunergasse'], ['wirths-', 'Fleischer', 'Beamte', 'Aufseher'], ['Ziegler'], ['Wirtschafterin', 'Wirtschafterin']]\n"
     ]
    }
   ],
   "source": [
    "print(predicted_positions)"
   ]
  },
  {
   "cell_type": "code",
   "execution_count": 10,
   "id": "6b255520-ec9f-4249-b61c-a7a13e503283",
   "metadata": {
    "tags": []
   },
   "outputs": [
    {
     "name": "stderr",
     "output_type": "stream",
     "text": [
      "100%|████████████████████████████████████████████████████████████████████████████████| 637/637 [12:03<00:00,  1.14s/it]\n"
     ]
    }
   ],
   "source": [
    "annotated_positions = []\n",
    "\n",
    "for entry in tqdm(testing_data):    \n",
    "    annotated_positions_row = [entry['text'][start:end] for start, end, _ in entry['entities']]\n",
    "    \n",
    "    for i in range(len(annotated_positions_row)):\n",
    "        if 'stelle' in annotated_positions_row[i]:\n",
    "            annotated_positions_row[i] = annotated_positions_row[i].replace('stelle', '')\n",
    "        annotated_positions_row[i] = lemmatize(annotated_positions_row[i])\n",
    "    \n",
    "    annotated_positions.append(annotated_positions_row)"
   ]
  },
  {
   "cell_type": "code",
   "execution_count": 11,
   "id": "8f51c94d-9b6d-422f-9434-1bcace404cb3",
   "metadata": {
    "tags": []
   },
   "outputs": [],
   "source": [
    "import pandas as pd\n",
    "from rapidfuzz import process, fuzz, distance\n",
    "\n",
    "def conf_mat(pos_list, pred_list, shared_set):\n",
    "    true_pos = 0\n",
    "    false_pos = 0\n",
    "    false_neg = 0\n",
    "    for el in shared_set:\n",
    "        pos_match, pos_score, _ = process.extractOne(el, pos_list, scorer=distance.Levenshtein.normalized_similarity)\n",
    "        pred_match, pred_score, _ = process.extractOne(el, pred_list, scorer=distance.Levenshtein.normalized_similarity)\n",
    "        if pos_score >= 0.9 and pred_score >= 0.9:\n",
    "            true_pos += 1\n",
    "        elif pos_score >= 0.9 and pred_score < 0.9:\n",
    "            false_neg += 1\n",
    "        elif pos_score < 0.9 and pred_score >= 0.9:\n",
    "            false_pos += 1\n",
    "    return true_pos, false_pos, false_neg\n",
    "\n",
    "tp_list = []\n",
    "fp_list = []\n",
    "fn_list = []\n",
    "\n",
    "for predicted, annotated in zip(predicted_positions, annotated_positions):\n",
    "    shared_set = set(annotated + predicted)\n",
    "\n",
    "    if len(predicted) > 0:\n",
    "        true_pos, false_pos, false_neg = conf_mat(annotated, predicted, shared_set)\n",
    "    else:\n",
    "        true_pos, false_pos, false_neg = (0, 0, len(shared_set))\n",
    "    tp_list.append(true_pos)\n",
    "    fp_list.append(false_pos)\n",
    "    fn_list.append(false_neg)\n",
    "\n",
    "con_pred_df = pd.DataFrame()\n",
    "con_pred_df['true_positive'] = tp_list\n",
    "con_pred_df['false_positive'] = fp_list\n",
    "con_pred_df['false_negative'] = fn_list"
   ]
  },
  {
   "cell_type": "code",
   "execution_count": 12,
   "id": "0b08d64c-8fe9-4eed-a9d2-fb4bbacb1249",
   "metadata": {},
   "outputs": [],
   "source": [
    "f1 = (2*con_pred_df['true_positive'].sum())/(2*con_pred_df['true_positive'].sum() + con_pred_df['false_positive'].sum() + con_pred_df['false_negative'].sum())\n",
    "recall = (con_pred_df['true_positive'].sum())/(con_pred_df['true_positive'].sum() + con_pred_df['false_negative'].sum())\n",
    "precision = (con_pred_df['true_positive'].sum())/(con_pred_df['true_positive'].sum() + con_pred_df['false_positive'].sum())"
   ]
  },
  {
   "cell_type": "code",
   "execution_count": 13,
   "id": "0fe84d4c-98e9-4202-bf0f-0f0cbab5d806",
   "metadata": {
    "tags": []
   },
   "outputs": [
    {
     "name": "stdout",
     "output_type": "stream",
     "text": [
      "f1:  0.6315172817809022\n",
      "recall:  0.6462829736211031\n",
      "precision:  0.6174112256586484\n"
     ]
    }
   ],
   "source": [
    "print('f1: ', f1)\n",
    "print('recall: ', recall)\n",
    "print('precision: ', precision)"
   ]
  }
 ],
 "metadata": {
  "kernelspec": {
   "display_name": "Python 3 (ipykernel)",
   "language": "python",
   "name": "python3"
  },
  "language_info": {
   "codemirror_mode": {
    "name": "ipython",
    "version": 3
   },
   "file_extension": ".py",
   "mimetype": "text/x-python",
   "name": "python",
   "nbconvert_exporter": "python",
   "pygments_lexer": "ipython3",
   "version": "3.11.5"
  }
 },
 "nbformat": 4,
 "nbformat_minor": 5
}
