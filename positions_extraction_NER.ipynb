{
 "cells": [
  {
   "cell_type": "code",
   "execution_count": 1,
   "id": "c5c07e56-0e14-4e22-8ff9-0783ddb10230",
   "metadata": {
    "tags": []
   },
   "outputs": [],
   "source": [
    "import spacy\n",
    "from spacy import displacy\n",
    "import glob\n",
    "from tqdm import tqdm\n",
    "import json"
   ]
  },
  {
   "cell_type": "code",
   "execution_count": 2,
   "id": "5aa5d7cd-e9c5-4e17-8c97-f95cbee16928",
   "metadata": {
    "tags": []
   },
   "outputs": [],
   "source": [
    "with open('train_data.json', 'r', encoding='utf-8') as f:\n",
    "    training_data = json.load(f)"
   ]
  },
  {
   "cell_type": "code",
   "execution_count": 3,
   "id": "693f27fd-a618-4e57-9b70-2e792017ea27",
   "metadata": {
    "tags": []
   },
   "outputs": [],
   "source": [
    "with open('test_data.json', 'r', encoding='utf-8') as f:\n",
    "    testing_data = json.load(f)"
   ]
  },
  {
   "cell_type": "code",
   "execution_count": 4,
   "id": "62cf00a7-43cf-4c8b-9867-8e71b7e3a04a",
   "metadata": {
    "tags": []
   },
   "outputs": [
    {
     "name": "stdout",
     "output_type": "stream",
     "text": [
      "{'text': \"Nr. 7029 Konkurs-Ausschreibung. Im u . 20 der k. k. Forst⸗ und Domänen Direktion zu Wien ist eine Forstwartstelle mit dem Gehalte jährlicher 400 fl., der gesetzlichen Aktivitätszulage von 100 fl., dem systemmäßigen Deputatholze, eventuell auch mit dem Genusse eines Naturalquartiers zu besetzen. Der Bewerbungstermin für diesen Dienstposten wird auf fünf Wochen vom Tage der Verlautbarung dieser Konkurs⸗Ausschreibung im Verordnungsblatte des hohen k. k. Ackerbau⸗Ministeriums festgesetzt, und sind die eigen händig geschriebenen Bewerbungsgesuche von den im Sinne des Gesetzes vom 19. April 1872 (R. G. B. Nr. 60 ex 1872) anspruchsberechtigten Unteroffizieren mit den durch die Verordnung des Ministeriums für Landesvertheidigung vom 12. Juli 1872 Punkt 6 vorgeschriebenen Belegen und speziell mit dem Zeugnisse über die nach der Ministerial Verordnung vom 16. Jänner 1850 Nr. 63 R. G. B ab gelegte Prüfung für den Forstschutz⸗ und technischen Hilfs dienst und dem ärztlichen Zeugnisse über die Eignung für den Hochgebirgsdienst, von anderen Bewerbern belegt mit dem Taufscheine, den Schulzeugnissen, dem obigen Prü fungs⸗ und ärztlichen Zeugnisse, endlich mit dem Nachweise des Standes und der bisherigen Dienstleistung sowie des Wohlverhaltens zwar von den noch in aktiver Dienst leistung stehenden Unteroffizieren und den im Staatsdienste stehenden anderen Bewerbern im Wege ihres vorgesetzten Kommando's beziehungsweise im vorgeschriebenen Dienst wege, von anspruchsberechtigten Unteroffizieren, welche nicht mehr dem Militärverbande angehören und den nicht im Staatsdienste stehenden andern Bewerbern unmittelbar bei der k. k. Forst⸗ und Domänen⸗Direktion in Wien einzu bringen. 10724 K. k. Forst⸗ und Domänen⸗Direktion. Wien, am 14. Oktober 1879.\", 'entities': [[98, 113, 'position']]}\n"
     ]
    }
   ],
   "source": [
    "print(training_data[0])"
   ]
  },
  {
   "cell_type": "code",
   "execution_count": 5,
   "id": "9396f38d-8ce6-435f-99cf-58e8d64b3f08",
   "metadata": {
    "tags": []
   },
   "outputs": [],
   "source": [
    "from spacy.tokens import DocBin\n",
    "from spacy.util import filter_spans\n",
    "\n",
    "nlp = spacy.blank('de')"
   ]
  },
  {
   "cell_type": "code",
   "execution_count": 6,
   "id": "3e26e374-f9ce-4074-af36-542019c0a2e4",
   "metadata": {
    "tags": []
   },
   "outputs": [
    {
     "name": "stderr",
     "output_type": "stream",
     "text": [
      " 63%|████████████████████████████████████████████████▍                            | 934/1486 [00:00<00:00, 3183.81it/s]"
     ]
    },
    {
     "name": "stdout",
     "output_type": "stream",
     "text": [
      "Skipping entity\n",
      "Skipping entity\n",
      "Skipping entity\n"
     ]
    },
    {
     "name": "stderr",
     "output_type": "stream",
     "text": [
      "100%|████████████████████████████████████████████████████████████████████████████| 1486/1486 [00:00<00:00, 3292.60it/s]\n",
      "100%|██████████████████████████████████████████████████████████████████████████████| 637/637 [00:00<00:00, 4006.55it/s]"
     ]
    },
    {
     "name": "stdout",
     "output_type": "stream",
     "text": [
      "Skipping entity\n",
      "Skipping entity\n",
      "Skipping entity\n"
     ]
    },
    {
     "name": "stderr",
     "output_type": "stream",
     "text": [
      "\n"
     ]
    }
   ],
   "source": [
    "train_doc_bin = DocBin()\n",
    "\n",
    "for training_example in tqdm(training_data):\n",
    "    text = training_example['text']\n",
    "    labels = training_example['entities']\n",
    "    doc = nlp.make_doc(text)\n",
    "    ents = []\n",
    "    for start, end, label in labels: \n",
    "        span = doc.char_span(start, end, label=label, alignment_mode=\"contract\")\n",
    "        if span is None:\n",
    "            print(\"Skipping entity\")\n",
    "        else:\n",
    "            ents.append(span)\n",
    "    filtered_ents = filter_spans(ents)\n",
    "    doc.ents = filtered_ents\n",
    "    train_doc_bin.add(doc)\n",
    "\n",
    "train_doc_bin.to_disk(\"train.spacy\")\n",
    "\n",
    "test_doc_bin = DocBin()\n",
    "\n",
    "for training_example in tqdm(testing_data):\n",
    "    text = training_example['text']\n",
    "    labels = training_example['entities']\n",
    "    doc = nlp.make_doc(text)\n",
    "    ents = []\n",
    "    for start, end, label in labels: \n",
    "        span = doc.char_span(start, end, label=label, alignment_mode=\"contract\")\n",
    "        if span is None:\n",
    "            print(\"Skipping entity\")\n",
    "        else:\n",
    "            ents.append(span)\n",
    "    filtered_ents = filter_spans(ents)\n",
    "    doc.ents = filtered_ents\n",
    "    test_doc_bin.add(doc)\n",
    "\n",
    "test_doc_bin.to_disk(\"test.spacy\")"
   ]
  },
  {
   "cell_type": "code",
   "execution_count": 7,
   "id": "43cf64f1-ca0d-41c3-97c0-5df5787c3157",
   "metadata": {
    "tags": []
   },
   "outputs": [],
   "source": [
    "## Generate a base_config file from spaCy's official documentation: https://spacy.io/usage/training"
   ]
  },
  {
   "cell_type": "code",
   "execution_count": 8,
   "id": "34496c68-259a-478b-a804-2873e8eadbad",
   "metadata": {
    "tags": []
   },
   "outputs": [
    {
     "name": "stdout",
     "output_type": "stream",
     "text": [
      "\u001b[38;5;2m[+] Auto-filled config with all values\u001b[0m\n",
      "\u001b[38;5;2m[+] Saved config\u001b[0m\n",
      "config.cfg\n",
      "You can now add your data and train your pipeline:\n",
      "python -m spacy train config.cfg --paths.train ./train.spacy --paths.dev ./dev.spacy\n"
     ]
    }
   ],
   "source": [
    "!python -m spacy init fill-config base_config.cfg config.cfg"
   ]
  },
  {
   "cell_type": "code",
   "execution_count": 9,
   "id": "cb634d45-00af-4207-aca0-ef6350ae9534",
   "metadata": {
    "tags": []
   },
   "outputs": [
    {
     "name": "stdout",
     "output_type": "stream",
     "text": [
      "\u001b[38;5;4m[i] Saving to output directory: ner\u001b[0m\n",
      "\u001b[38;5;4m[i] Using CPU\u001b[0m\n",
      "\u001b[1m\n",
      "=========================== Initializing pipeline ===========================\u001b[0m\n",
      "\u001b[38;5;2m[+] Initialized pipeline\u001b[0m\n",
      "\u001b[1m\n",
      "============================= Training pipeline =============================\u001b[0m\n",
      "\u001b[38;5;4m[i] Pipeline: ['tok2vec', 'ner']\u001b[0m\n",
      "\u001b[38;5;4m[i] Initial learn rate: 0.001\u001b[0m\n",
      "E    #       LOSS TOK2VEC  LOSS NER  ENTS_F  ENTS_P  ENTS_R  SCORE \n",
      "---  ------  ------------  --------  ------  ------  ------  ------\n",
      "  0       0          0.00     36.83    6.24    3.33   49.65    0.06\n",
      "  0     200         89.77   1261.51   74.42   79.68   69.81    0.74\n",
      "  0     400        165.66    524.53   82.21   82.95   81.49    0.82\n",
      "  1     600         67.56    378.08   83.62   84.48   82.78    0.84\n",
      "  1     800        119.37    413.02   85.90   88.20   83.73    0.86\n",
      "  2    1000        146.88    292.90   86.61   89.04   84.32    0.87\n",
      "  3    1200        182.13    216.98   86.58   86.83   86.32    0.87\n",
      "  4    1400        255.13    225.48   85.93   91.03   81.37    0.86\n",
      "  6    1600        272.14    198.74   85.53   83.33   87.85    0.86\n",
      "  7    1800        349.88    170.41   86.28   90.22   82.67    0.86\n",
      " 10    2000        324.47    145.39   86.32   85.96   86.67    0.86\n",
      " 12    2200        407.33    104.22   85.63   85.53   85.73    0.86\n",
      " 16    2400        337.81    106.04   86.27   88.18   84.43    0.86\n",
      " 19    2600        258.29     84.63   86.37   90.56   82.55    0.86\n",
      "\u001b[38;5;2m[+] Saved pipeline to output directory\u001b[0m\n",
      "ner\\model-last\n"
     ]
    }
   ],
   "source": [
    "!python -m spacy train config.cfg --output ner --paths.train train.spacy --paths.dev test.spacy"
   ]
  },
  {
   "cell_type": "code",
   "execution_count": 10,
   "id": "71a5441f-0177-48d7-9e6a-177522fda64c",
   "metadata": {
    "tags": []
   },
   "outputs": [],
   "source": [
    "nlp_ner = spacy.load('ner/model-best')"
   ]
  },
  {
   "cell_type": "code",
   "execution_count": 11,
   "id": "b261efdf-9c7f-44c3-bb4d-bd141360495b",
   "metadata": {
    "tags": []
   },
   "outputs": [
    {
     "name": "stdout",
     "output_type": "stream",
     "text": [
      "Annotations: ['Krankenschwestern']\n",
      "Predictions: []\n",
      "\n",
      "Annotations: ['Cassier', 'Rechnungsführer', 'Hausadministrator', 'Staatsbeamter']\n",
      "Predictions: ['Cassier', 'Rechnungsführer', 'Hausadministrator']\n",
      "\n",
      "Annotations: ['Handelsangestellter']\n",
      "Predictions: []\n",
      "\n",
      "Annotations: ['Supplentenstelle']\n",
      "Predictions: ['Suppleutenstelle']\n",
      "\n",
      "Annotations: ['Kontrolorspostens', 'Amtsschreiberspostens']\n",
      "Predictions: ['Verwalter']\n",
      "\n",
      "Annotations: ['Maler', 'Anstreicher', 'Lackirer']\n",
      "Predictions: ['Anstreicher', 'Lackirer']\n",
      "\n",
      "Annotations: ['Kellnerin', 'Alleinkellnerin', 'Markörin']\n",
      "Predictions: ['Kellnerin', 'Markörin']\n",
      "\n",
      "Annotations: ['Magazineurs']\n",
      "Predictions: ['Magazineurstelle']\n",
      "\n",
      "Annotations: ['Geiger', 'Stehgeiger', 'Geigerin', 'Cellistin', 'Pianistin']\n",
      "Predictions: ['Geigerin', 'Cellistin', 'Pianistin', 'Kapellmeister']\n",
      "\n",
      "Annotations: ['Malergehilfen']\n",
      "Predictions: []\n",
      "\n",
      "Annotations: ['Schlosser', 'Kesselschmied', 'Vorarbeiter']\n",
      "Predictions: ['Schlosser', 'Vorarbeiter']\n",
      "\n",
      "Annotations: ['Turnlehrerstelle', 'Lehrstelle', 'Lehrstelle', 'Lehrstelle']\n",
      "Predictions: ['Lehrstelle', 'Lehrstelle', 'Lehrstelle']\n",
      "\n",
      "Annotations: ['Religionslehrers', 'Lehrerstelle', 'Lehrerstelle', 'Unterlehrerstelle', 'Unterlehrerstelle', 'Unterlehrerstelle', 'Unterlehrerstelle', 'Unterlehrerin', 'Unterlehrerstelle', 'Unterlehrerstelle']\n",
      "Predictions: ['Dezem', 'Lehrerstelle', 'Lehrerstelle', 'Unterlehrerstelle', 'Unterlehrerstelle', 'Unterlehrerstelle', 'Unterlehrerstelle', 'Unterlehrerstelle', 'Unterlehrerstelle']\n",
      "\n",
      "Annotations: ['Müller', 'Vertrauensstellung']\n",
      "Predictions: ['Müller']\n",
      "\n",
      "Annotations: ['Büglerinngen']\n",
      "Predictions: ['Knopflochnäherin']\n",
      "\n",
      "Annotations: ['Kräfte']\n",
      "Predictions: ['Dreher']\n",
      "\n",
      "Annotations: ['Schauspieler', 'Schauspielerinnen', 'Musiker']\n",
      "Predictions: ['Schauspieler', 'Schauspielerinnen']\n",
      "\n",
      "Annotations: ['Saalkellner', 'Chefpatissier', 'Konditor', 'Entresköchinnen', 'Gasthofköchinnen', 'Pensions köchin', 'Restaurationsköchin', 'Bratenköchinnen', 'Servierin', 'Zahlkellnerin', 'Gasthaus kellnerinnen', 'Herdmädchen', 'Chefmädchen', 'Geschäftshaus köchinnen', 'Schankkassierinnen', 'Kinderstubenmädchen']\n",
      "Predictions: ['Saalkellner', 'Chefpatissier', 'Konditor', 'Entresköchinnen', 'Pensions köchin', 'Bratenköchinnen', 'Servierin', 'Zahlkellnerin', 'Herdmädchen', 'Schankkassierinnen', 'Kinderstubenmädchen']\n",
      "\n",
      "Annotations: ['Kellnerin', 'Biermädchen']\n",
      "Predictions: ['Kellnerin', 'Eller']\n",
      "\n",
      "Annotations: ['Damenfriseur(in)']\n",
      "Predictions: []\n",
      "\n",
      "Annotations: ['ArchitekturZeichner']\n",
      "Predictions: []\n",
      "\n",
      "Annotations: ['Praktikanten⸗Posten']\n",
      "Predictions: []\n",
      "\n",
      "Annotations: ['Katecheten']\n",
      "Predictions: []\n",
      "\n",
      "Annotations: ['Mädchen für alles']\n",
      "Predictions: []\n",
      "\n",
      "Annotations: ['Senn']\n",
      "Predictions: []\n",
      "\n",
      "Annotations: ['Lehrerstelle', 'Unterlehrerstellen', 'Unterlehrerstellen', 'Unterlehrerstellen', 'Lehrerinstelle']\n",
      "Predictions: ['Lehrerstelle', 'Unterlehrerstellen', 'Unterlehrerstellen', 'Unterlehrerstellen', 'Lehrerinstelle']\n",
      "\n",
      "Annotations: ['Direktors']\n",
      "Predictions: []\n",
      "\n",
      "Annotations: ['Metteur-en-page']\n",
      "Predictions: ['Metteur-en']\n",
      "\n",
      "Annotations: ['Betriebsbeamten']\n",
      "Predictions: []\n",
      "\n",
      "Annotations: ['Schwimmeister']\n",
      "Predictions: []\n",
      "\n",
      "Annotations: ['Lehrerinenstellen', 'Industrial⸗Lehrerinstelle']\n",
      "Predictions: ['Industrial⸗Lehrerinstelle']\n",
      "\n",
      "Annotations: ['Metall⸗Gießer']\n",
      "Predictions: []\n",
      "\n",
      "Annotations: ['Lehrerstellen']\n",
      "Predictions: []\n",
      "\n",
      "Annotations: ['Senatsvorsitzendenposten', 'Richterposten']\n",
      "Predictions: ['Richterstelle']\n",
      "\n",
      "Annotations: ['Acquisiteure']\n",
      "Predictions: []\n",
      "\n",
      "Annotations: ['Förster', 'Leibjäger', 'Forst adjunkt', 'Leibjäger', 'Beschliesserin']\n",
      "Predictions: ['Förster', 'Beschliesserin']\n",
      "\n",
      "Annotations: ['Försterstelle', 'Landesgerichtsrathsstelle']\n",
      "Predictions: ['Landesgerichtsrathsstelle']\n",
      "\n",
      "Annotations: ['Unterlehrer']\n",
      "Predictions: []\n",
      "\n",
      "Annotations: ['Meierleute']\n",
      "Predictions: []\n",
      "\n",
      "Annotations: ['Torfstecher', 'Akkordarbeiter']\n",
      "Predictions: ['Akkordarbeiter']\n",
      "\n",
      "Annotations: ['Lehrjung']\n",
      "Predictions: []\n",
      "\n",
      "Annotations: ['Wagenschmied', 'Arbeiter']\n",
      "Predictions: ['Wagenschmied']\n",
      "\n",
      "Annotations: ['Modell']\n",
      "Predictions: ['Modell (sehr']\n",
      "\n",
      "Annotations: ['Bindergehilfen', 'Weißbinder']\n",
      "Predictions: ['Bindergehilfen', 'Bindermeister']\n",
      "\n",
      "Annotations: ['Austrägerin', 'Austräger']\n",
      "Predictions: ['Austrägerin']\n",
      "\n",
      "Annotations: ['Hausgehilfn']\n",
      "Predictions: []\n",
      "\n",
      "Annotations: ['Beamter(in)']\n",
      "Predictions: ['Beamter(in) nur']\n",
      "\n",
      "Annotations: ['Instruktor']\n",
      "Predictions: []\n",
      "\n",
      "Annotations: ['Philolog']\n",
      "Predictions: []\n",
      "\n",
      "Annotations: ['Postmeisterstelle', 'Manipulationsbeihilfe', 'Straßeneinräumer']\n",
      "Predictions: ['Postmeisterstelle']\n",
      "\n",
      "Annotations: ['Kindsmädchen']\n",
      "Predictions: []\n",
      "\n",
      "Annotations: ['Kraftfahrer', 'Autoelektriker']\n",
      "Predictions: ['Kraftfahrer']\n",
      "\n",
      "Annotations: ['Lehrjungen']\n",
      "Predictions: []\n",
      "\n",
      "Annotations: ['Kegelbursche']\n",
      "Predictions: []\n",
      "\n",
      "Annotations: ['Herrschafts-Diener mit']\n",
      "Predictions: ['Diener']\n",
      "\n",
      "Annotations: ['Webmeister', 'Schlosser']\n",
      "Predictions: ['Webmeister']\n",
      "\n",
      "Annotations: ['Vorarheite']\n",
      "Predictions: ['Vorarheiter']\n",
      "\n",
      "Annotations: ['Fabriksschlosser']\n",
      "Predictions: []\n",
      "\n",
      "Annotations: ['Schriftgießer']\n",
      "Predictions: []\n",
      "\n",
      "Annotations: ['Reitknecht', 'Kutscher']\n",
      "Predictions: ['Korporal', 'Kutscher']\n",
      "\n",
      "Annotations: ['Konditor Gehilfe']\n",
      "Predictions: []\n",
      "\n",
      "Annotations: ['Angestellter']\n",
      "Predictions: ['Kaufmännischer']\n",
      "\n",
      "Annotations: ['Büglerinnen', 'Lehrmädchen', 'Einstärker']\n",
      "Predictions: ['Büglerinnen', 'Lehrmädchen']\n",
      "\n",
      "Annotations: ['Wirhschafterin', 'Verkäuferin', 'Probirmamsell']\n",
      "Predictions: ['Wirhschafterin', 'Verkäuferin']\n",
      "\n",
      "Annotations: ['Meister']\n",
      "Predictions: []\n",
      "\n",
      "Annotations: ['Lehrerinstelle', 'Oberlehrerstellen', 'Schulleiterstellen', 'Supplentenstelle', 'Supplentenstellen']\n",
      "Predictions: ['Lehrerinstelle', 'Schulleiterstellen']\n",
      "\n",
      "Annotations: ['Kommissionsgänger', 'Skontist']\n",
      "Predictions: ['Skontist']\n",
      "\n",
      "Annotations: ['Vizepräsidentenposten']\n",
      "Predictions: []\n",
      "\n",
      "Annotations: ['Tischler-Vorarbeiter', 'Tischler', 'Spezialarbeiter', 'Maschinenarbeiter', 'Zirkularisten', 'Hilfsarbeiter']\n",
      "Predictions: ['Tischler-Vorarbeiter', 'Tischler', 'Spezialarbeiter', 'Hilfsarbeiter']\n",
      "\n",
      "Annotations: ['Gießermeisters', 'KesselschmiedVorarbeiterstelle']\n",
      "Predictions: ['Gießermeisters']\n",
      "\n",
      "Annotations: ['Inspectoren']\n",
      "Predictions: []\n",
      "\n",
      "Annotations: ['Antiquitäten-Möbeltischler']\n",
      "Predictions: ['Möbeltischler']\n",
      "\n",
      "Annotations: ['Bäcker']\n",
      "Predictions: []\n",
      "\n",
      "Annotations: ['Haushälterin', 'Hausgenossin']\n",
      "Predictions: ['Haushälterin', 'Haus hälterin']\n",
      "\n",
      "Annotations: ['Bäcker']\n",
      "Predictions: []\n",
      "\n",
      "Annotations: ['Chauffeur', 'Mechaniker']\n",
      "Predictions: ['Chauffeur']\n",
      "\n",
      "Annotations: ['Erzieher', 'Correpetitor']\n",
      "Predictions: ['Hörer', 'Erzieher']\n",
      "\n",
      "Annotations: ['Auslandskaufmann']\n",
      "Predictions: []\n",
      "\n",
      "Annotations: ['Sticker']\n",
      "Predictions: []\n",
      "\n",
      "Annotations: ['Reisebeamte', 'Agenten']\n",
      "Predictions: []\n",
      "\n",
      "Annotations: ['Ingenieur']\n",
      "Predictions: ['Ingenieur (Fachschulingenieur']\n",
      "\n",
      "Annotations: ['Zimmermädchen']\n",
      "Predictions: []\n",
      "\n",
      "Annotations: ['Maschinenschlosser', 'Automatenschlosser']\n",
      "Predictions: ['Maschinenschlosser']\n",
      "\n",
      "Annotations: ['Arztesposten']\n",
      "Predictions: ['Bezirks⸗']\n",
      "\n",
      "Annotations: ['Professeur de langue']\n",
      "Predictions: []\n",
      "\n",
      "Annotations: ['Stenographielehrer']\n",
      "Predictions: []\n",
      "\n",
      "Annotations: ['Rastrirer', 'Praktikanten']\n",
      "Predictions: ['Rastrirer']\n",
      "\n",
      "Annotations: ['Kanzleibeamte', 'Stenogr.']\n",
      "Predictions: ['Kanzleibeamte']\n",
      "\n",
      "Annotations: ['Bürohilfskräfte']\n",
      "Predictions: []\n",
      "\n",
      "Annotations: ['Religlonslehrers', 'Lehrerstelle', 'Lehrerstelle', 'Unterlehrerstelle', 'Unterlehrerstelle', 'Unterlehrerstelle', 'Unterlehrerstelle', 'Unterlehrerin⸗', 'unterlehrerstelle', 'Unterlehrerstelle']\n",
      "Predictions: ['Dezem', 'Lehrerstelle', 'Lehrerstelle', 'Unterlehrerstelle', 'Unterlehrerstelle', 'Unterlehrerstelle', 'Unterlehrerstelle', 'unterlehrerstelle', 'Unterlehrerstelle']\n",
      "\n",
      "Annotations: ['Marine⸗Artillerie Eleven']\n",
      "Predictions: ['Schiff']\n",
      "\n",
      "Annotations: ['Hausmeister', 'Geschäftsdiener']\n",
      "Predictions: ['Geschäftsdiener']\n",
      "\n",
      "Annotations: ['Hausbesorgerposten']\n",
      "Predictions: []\n",
      "\n",
      "Annotations: ['Fakturisten', 'Stenotypistin']\n",
      "Predictions: ['Stenotypistin']\n",
      "\n",
      "Annotations: ['Geschäfts gänger', 'Skontist', 'Magazineur', 'Kanzlei diener', 'Kondukteur']\n",
      "Predictions: ['Magazineur', 'Kanzlei diener']\n",
      "\n",
      "Annotations: ['Schreiner', 'Stellmacher', 'Wagner']\n",
      "Predictions: ['Schreiner']\n",
      "\n",
      "Annotations: ['Hofmeister', 'Lehrer', 'Gesellschafter', 'Vorleser', 'Buchhalter', 'Comp toiristen', 'Schreiber', 'Reisende', 'Commis', 'Magazineure', 'Prak tikanten', 'Hofbesorger', 'Fabriksaufseher', 'Hausmeister', 'Haus⸗', 'Ladendiener']\n",
      "Predictions: ['Vermittlungs⸗Bureau', 'Lehrer', 'Gesellschafter', 'Vorleser', 'Buchhalter', 'Schreiber', 'Reisende', 'Commis', 'Fabriksaufseher', 'Hausmeister']\n",
      "\n",
      "Annotations: ['Strickerinnen', 'Instrumentarinnen', 'Operationsschwestern', 'Hand schuhschneider']\n",
      "Predictions: ['Strickerinnen']\n",
      "\n",
      "Annotations: ['Modelltischler']\n",
      "Predictions: []\n",
      "\n",
      "Annotations: ['Hausarbeiter']\n",
      "Predictions: []\n",
      "\n",
      "Annotations: ['KÄSER']\n",
      "Predictions: []\n",
      "\n",
      "Annotations: ['Gemeindearztes']\n",
      "Predictions: []\n",
      "\n",
      "Annotations: ['Praktikanten', 'Volontäre']\n",
      "Predictions: ['Praktikanten']\n",
      "\n",
      "Annotations: ['Ge schäftsgänger', 'Comptoirist', 'Magazineur', 'Kassier']\n",
      "Predictions: ['Stabile', 'Comptoirist', 'Magazineur', 'Kassier']\n",
      "\n",
      "Annotations: ['Gefertigter', 'Tischler', 'Fournierhändler']\n",
      "Predictions: ['Swacsina', 'Tischler', 'Fournierhändler']\n",
      "\n",
      "Annotations: ['Lehrstelle']\n",
      "Predictions: []\n",
      "\n",
      "Annotations: ['Katecheten', 'Lehrers', 'Lehrers', 'Lehrers', 'Unterlehrers']\n",
      "Predictions: ['Lehrers', 'Lehrers', 'Lehrers', 'Unterlehrers']\n",
      "\n",
      "Annotations: ['Volonlair', 'Praktikant']\n",
      "Predictions: ['Praktikant']\n",
      "\n",
      "Annotations: ['Offizial']\n",
      "Predictions: []\n",
      "\n",
      "Annotations: ['Beamter', 'Aufseher']\n",
      "Predictions: ['Beamter']\n",
      "\n"
     ]
    }
   ],
   "source": [
    "total_annotations = 0\n",
    "correct_matches = 0\n",
    "\n",
    "for entry in testing_data:\n",
    "    identified = []\n",
    "    entities = nlp_ner(entry['text'])\n",
    "    \n",
    "    for entity in entities.ents:\n",
    "        identified.append(str(entity.text))\n",
    "        \n",
    "    annotated_positions = [entry['text'][start:end] for start, end, _ in entry['entities']]\n",
    "    total_annotations += len(annotated_positions)\n",
    "    \n",
    "    # Directly compare the annotated positions to identified positions\n",
    "    identified_set = set(identified)\n",
    "    annotated_set = set(annotated_positions)\n",
    "    \n",
    "    # Calculate the number of correct matches\n",
    "    matches = len(identified_set & annotated_set)\n",
    "    \n",
    "    # Calculate the fraction of correct matches compared to total annotated entities\n",
    "    match_fraction = matches / len(annotated_positions) if len(annotated_positions) > 0 else 0\n",
    "    \n",
    "    correct_matches += match_fraction\n",
    "    \n",
    "    # Print annotations and predictions for mismatches\n",
    "    if match_fraction != 1:\n",
    "        print(f\"Annotations: {annotated_positions}\")\n",
    "        print(f\"Predictions: {identified}\")\n",
    "        print()"
   ]
  },
  {
   "cell_type": "code",
   "execution_count": 12,
   "id": "c174d02c-0ba0-4db7-8492-9624abe06891",
   "metadata": {
    "tags": []
   },
   "outputs": [
    {
     "name": "stdout",
     "output_type": "stream",
     "text": [
      "Accuracy: 86.59%\n"
     ]
    }
   ],
   "source": [
    "accuracy = correct_matches / len(testing_data) if testing_data else 0\n",
    "\n",
    "print(f'Accuracy: {accuracy:.2%}')"
   ]
  },
  {
   "cell_type": "code",
   "execution_count": 13,
   "id": "26a7c878-6406-4175-8c19-2470dfedb4b6",
   "metadata": {
    "tags": []
   },
   "outputs": [
    {
     "data": {
      "text/html": [
       "<span class=\"tex2jax_ignore\"><div class=\"entities\" style=\"line-height: 2.5; direction: ltr\">Tüchtiger \n",
       "<mark class=\"entity\" style=\"background: #ddd; padding: 0.45em 0.6em; margin: 0 0.25em; line-height: 1; border-radius: 0.35em;\">\n",
       "    Gärtner\n",
       "    <span style=\"font-size: 0.8em; font-weight: bold; line-height: 1; border-radius: 0.35em; vertical-align: middle; margin-left: 0.5rem\">position</span>\n",
       "</mark>\n",
       " wird aufgenommen.</div></span>"
      ],
      "text/plain": [
       "<IPython.core.display.HTML object>"
      ]
     },
     "metadata": {},
     "output_type": "display_data"
    }
   ],
   "source": [
    "# Test on some examples\n",
    "doc = nlp_ner(\"Tüchtiger Gärtner wird aufgenommen.\")\n",
    "displacy.render(doc, style='ent', jupyter=True)"
   ]
  },
  {
   "cell_type": "code",
   "execution_count": 14,
   "id": "d421ad43-a64d-4a8e-bf1e-8104a889c473",
   "metadata": {
    "tags": []
   },
   "outputs": [
    {
     "data": {
      "text/html": [
       "<span class=\"tex2jax_ignore\"><div class=\"entities\" style=\"line-height: 2.5; direction: ltr\">Fesche solide 12599 \n",
       "<mark class=\"entity\" style=\"background: #ddd; padding: 0.45em 0.6em; margin: 0 0.25em; line-height: 1; border-radius: 0.35em;\">\n",
       "    Kassierkellnerin\n",
       "    <span style=\"font-size: 0.8em; font-weight: bold; line-height: 1; border-radius: 0.35em; vertical-align: middle; margin-left: 0.5rem\">position</span>\n",
       "</mark>\n",
       " und tüchtige \n",
       "<mark class=\"entity\" style=\"background: #ddd; padding: 0.45em 0.6em; margin: 0 0.25em; line-height: 1; border-radius: 0.35em;\">\n",
       "    Köchin\n",
       "    <span style=\"font-size: 0.8em; font-weight: bold; line-height: 1; border-radius: 0.35em; vertical-align: middle; margin-left: 0.5rem\">position</span>\n",
       "</mark>\n",
       " finden sofort Stellung. Stadtparkrestaurant, Saaz.</div></span>"
      ],
      "text/plain": [
       "<IPython.core.display.HTML object>"
      ]
     },
     "metadata": {},
     "output_type": "display_data"
    }
   ],
   "source": [
    "doc = nlp_ner(\"Fesche solide 12599 Kassierkellnerin und tüchtige Köchin finden sofort Stellung. Stadtparkrestaurant, Saaz.\")\n",
    "displacy.render(doc, style='ent', jupyter=True)"
   ]
  },
  {
   "cell_type": "code",
   "execution_count": 15,
   "id": "6889c868-9fff-4d40-920b-9c60b4ee3dd7",
   "metadata": {
    "tags": []
   },
   "outputs": [
    {
     "data": {
      "text/html": [
       "<span class=\"tex2jax_ignore\"><div class=\"entities\" style=\"line-height: 2.5; direction: ltr\">Avis f. deutsche stellensuchende. sofort werden plazirt nach Ungarn: 1 sekretär zu einem Grafen 1000 fl., 1 \n",
       "<mark class=\"entity\" style=\"background: #ddd; padding: 0.45em 0.6em; margin: 0 0.25em; line-height: 1; border-radius: 0.35em;\">\n",
       "    Güter⸗Inspektor\n",
       "    <span style=\"font-size: 0.8em; font-weight: bold; line-height: 1; border-radius: 0.35em; vertical-align: middle; margin-left: 0.5rem\">position</span>\n",
       "</mark>\n",
       " 900 fl. und \n",
       "<mark class=\"entity\" style=\"background: #ddd; padding: 0.45em 0.6em; margin: 0 0.25em; line-height: 1; border-radius: 0.35em;\">\n",
       "    Tantiéme\n",
       "    <span style=\"font-size: 0.8em; font-weight: bold; line-height: 1; border-radius: 0.35em; vertical-align: middle; margin-left: 0.5rem\">position</span>\n",
       "</mark>\n",
       ", 1 \n",
       "<mark class=\"entity\" style=\"background: #ddd; padding: 0.45em 0.6em; margin: 0 0.25em; line-height: 1; border-radius: 0.35em;\">\n",
       "    Oekonomiebeamter\n",
       "    <span style=\"font-size: 0.8em; font-weight: bold; line-height: 1; border-radius: 0.35em; vertical-align: middle; margin-left: 0.5rem\">position</span>\n",
       "</mark>\n",
       " 800 fl. und \n",
       "<mark class=\"entity\" style=\"background: #ddd; padding: 0.45em 0.6em; margin: 0 0.25em; line-height: 1; border-radius: 0.35em;\">\n",
       "    Deputat\n",
       "    <span style=\"font-size: 0.8em; font-weight: bold; line-height: 1; border-radius: 0.35em; vertical-align: middle; margin-left: 0.5rem\">position</span>\n",
       "</mark>\n",
       ", 2 \n",
       "<mark class=\"entity\" style=\"background: #ddd; padding: 0.45em 0.6em; margin: 0 0.25em; line-height: 1; border-radius: 0.35em;\">\n",
       "    Wirthschaftsadjunkten\n",
       "    <span style=\"font-size: 0.8em; font-weight: bold; line-height: 1; border-radius: 0.35em; vertical-align: middle; margin-left: 0.5rem\">position</span>\n",
       "</mark>\n",
       " à 400 fl. pro anno und freie stazion, 1 \n",
       "<mark class=\"entity\" style=\"background: #ddd; padding: 0.45em 0.6em; margin: 0 0.25em; line-height: 1; border-radius: 0.35em;\">\n",
       "    Oberförster\n",
       "    <span style=\"font-size: 0.8em; font-weight: bold; line-height: 1; border-radius: 0.35em; vertical-align: middle; margin-left: 0.5rem\">position</span>\n",
       "</mark>\n",
       " 1200 fl., 1 \n",
       "<mark class=\"entity\" style=\"background: #ddd; padding: 0.45em 0.6em; margin: 0 0.25em; line-height: 1; border-radius: 0.35em;\">\n",
       "    Magazineur\n",
       "    <span style=\"font-size: 0.8em; font-weight: bold; line-height: 1; border-radius: 0.35em; vertical-align: middle; margin-left: 0.5rem\">position</span>\n",
       "</mark>\n",
       " 800 fl., 1 \n",
       "<mark class=\"entity\" style=\"background: #ddd; padding: 0.45em 0.6em; margin: 0 0.25em; line-height: 1; border-radius: 0.35em;\">\n",
       "    Buchhalter\n",
       "    <span style=\"font-size: 0.8em; font-weight: bold; line-height: 1; border-radius: 0.35em; vertical-align: middle; margin-left: 0.5rem\">position</span>\n",
       "</mark>\n",
       " 1000 fl., 1 \n",
       "<mark class=\"entity\" style=\"background: #ddd; padding: 0.45em 0.6em; margin: 0 0.25em; line-height: 1; border-radius: 0.35em;\">\n",
       "    Brennereileiter\n",
       "    <span style=\"font-size: 0.8em; font-weight: bold; line-height: 1; border-radius: 0.35em; vertical-align: middle; margin-left: 0.5rem\">position</span>\n",
       "</mark>\n",
       " 900 fl., 1 \n",
       "<mark class=\"entity\" style=\"background: #ddd; padding: 0.45em 0.6em; margin: 0 0.25em; line-height: 1; border-radius: 0.35em;\">\n",
       "    Braumeister\n",
       "    <span style=\"font-size: 0.8em; font-weight: bold; line-height: 1; border-radius: 0.35em; vertical-align: middle; margin-left: 0.5rem\">position</span>\n",
       "</mark>\n",
       " 1000 fl., 1 \n",
       "<mark class=\"entity\" style=\"background: #ddd; padding: 0.45em 0.6em; margin: 0 0.25em; line-height: 1; border-radius: 0.35em;\">\n",
       "    Portier\n",
       "    <span style=\"font-size: 0.8em; font-weight: bold; line-height: 1; border-radius: 0.35em; vertical-align: middle; margin-left: 0.5rem\">position</span>\n",
       "</mark>\n",
       " 700 fl., 1 ArbeitsAufseher 750 fl., 1 \n",
       "<mark class=\"entity\" style=\"background: #ddd; padding: 0.45em 0.6em; margin: 0 0.25em; line-height: 1; border-radius: 0.35em;\">\n",
       "    Fabriks⸗Aufseher\n",
       "    <span style=\"font-size: 0.8em; font-weight: bold; line-height: 1; border-radius: 0.35em; vertical-align: middle; margin-left: 0.5rem\">position</span>\n",
       "</mark>\n",
       " in einer chemischen Fabrik 800 fl., 1 deutscher \n",
       "<mark class=\"entity\" style=\"background: #ddd; padding: 0.45em 0.6em; margin: 0 0.25em; line-height: 1; border-radius: 0.35em;\">\n",
       "    Erzieher\n",
       "    <span style=\"font-size: 0.8em; font-weight: bold; line-height: 1; border-radius: 0.35em; vertical-align: middle; margin-left: 0.5rem\">position</span>\n",
       "</mark>\n",
       " 40 fl., 1 \n",
       "<mark class=\"entity\" style=\"background: #ddd; padding: 0.45em 0.6em; margin: 0 0.25em; line-height: 1; border-radius: 0.35em;\">\n",
       "    Reisebegleiterin\n",
       "    <span style=\"font-size: 0.8em; font-weight: bold; line-height: 1; border-radius: 0.35em; vertical-align: middle; margin-left: 0.5rem\">position</span>\n",
       "</mark>\n",
       " 40 fl., 1 \n",
       "<mark class=\"entity\" style=\"background: #ddd; padding: 0.45em 0.6em; margin: 0 0.25em; line-height: 1; border-radius: 0.35em;\">\n",
       "    Hausrepräsentantin\n",
       "    <span style=\"font-size: 0.8em; font-weight: bold; line-height: 1; border-radius: 0.35em; vertical-align: middle; margin-left: 0.5rem\">position</span>\n",
       "</mark>\n",
       " 35 fl. und 1 \n",
       "<mark class=\"entity\" style=\"background: #ddd; padding: 0.45em 0.6em; margin: 0 0.25em; line-height: 1; border-radius: 0.35em;\">\n",
       "    Gesellschafterin\n",
       "    <span style=\"font-size: 0.8em; font-weight: bold; line-height: 1; border-radius: 0.35em; vertical-align: middle; margin-left: 0.5rem\">position</span>\n",
       "</mark>\n",
       " 30 fl. pro Monat und freie stazion, durch die Plazierungs⸗Agentur des B. Malík, Budapest, sommergasse 2. Anfragen werden nur gegen Einsendung von 3 stück Briefmarken beantwortet. 6540.</div></span>"
      ],
      "text/plain": [
       "<IPython.core.display.HTML object>"
      ]
     },
     "metadata": {},
     "output_type": "display_data"
    }
   ],
   "source": [
    "doc = nlp_ner(\"Avis f. deutsche stellensuchende. sofort werden plazirt nach Ungarn: 1 sekretär zu einem Grafen 1000 fl., 1 Güter⸗Inspektor 900 fl. und Tantiéme, 1 Oekonomiebeamter 800 fl. und Deputat, 2 Wirthschaftsadjunkten à 400 fl. pro anno und freie stazion, 1 Oberförster 1200 fl., 1 Magazineur 800 fl., 1 Buchhalter 1000 fl., 1 Brennereileiter 900 fl., 1 Braumeister 1000 fl., 1 Portier 700 fl., 1 ArbeitsAufseher 750 fl., 1 Fabriks⸗Aufseher in einer chemischen Fabrik 800 fl., 1 deutscher Erzieher 40 fl., 1 Reisebegleiterin 40 fl., 1 Hausrepräsentantin 35 fl. und 1 Gesellschafterin 30 fl. pro Monat und freie stazion, durch die Plazierungs⸗Agentur des B. Malík, Budapest, sommergasse 2. Anfragen werden nur gegen Einsendung von 3 stück Briefmarken beantwortet. 6540.\")\n",
    "displacy.render(doc, style='ent', jupyter=True)"
   ]
  },
  {
   "cell_type": "code",
   "execution_count": 16,
   "id": "8a517c9e-1981-4775-afac-a91537f581dd",
   "metadata": {
    "tags": []
   },
   "outputs": [
    {
     "data": {
      "text/html": [
       "<span class=\"tex2jax_ignore\"><div class=\"entities\" style=\"line-height: 2.5; direction: ltr\">\n",
       "<mark class=\"entity\" style=\"background: #ddd; padding: 0.45em 0.6em; margin: 0 0.25em; line-height: 1; border-radius: 0.35em;\">\n",
       "    Akkumulatorenfachmann\n",
       "    <span style=\"font-size: 0.8em; font-weight: bold; line-height: 1; border-radius: 0.35em; vertical-align: middle; margin-left: 0.5rem\">position</span>\n",
       "</mark>\n",
       ",ſelbſtändiger Arbeiter, in Auto“, Radio. und Telephon⸗Arbeiten verſiert, ſucht ſeine Stelle zu verbeſſern. In⸗ oder Ausland. Sene und Tſchechiſch. 4 11. Angebote erbeten an Ernſt 114 Prag⸗Smichov, Nadraini 48²⁵</div></span>"
      ],
      "text/plain": [
       "<IPython.core.display.HTML object>"
      ]
     },
     "metadata": {},
     "output_type": "display_data"
    }
   ],
   "source": [
    "doc = nlp_ner('Akkumulatorenfachmann,ſelbſtändiger Arbeiter, in Auto“, Radio. und Telephon⸗Arbeiten verſiert, ſucht ſeine Stelle zu verbeſſern. In⸗ oder Ausland. Sene und Tſchechiſch. 4 11. Angebote erbeten an Ernſt 114 Prag⸗Smichov, Nadraini 48²⁵')\n",
    "displacy.render(doc, style='ent', jupyter=True)"
   ]
  }
 ],
 "metadata": {
  "kernelspec": {
   "display_name": "Python 3 (ipykernel)",
   "language": "python",
   "name": "python3"
  },
  "language_info": {
   "codemirror_mode": {
    "name": "ipython",
    "version": 3
   },
   "file_extension": ".py",
   "mimetype": "text/x-python",
   "name": "python",
   "nbconvert_exporter": "python",
   "pygments_lexer": "ipython3",
   "version": "3.11.5"
  }
 },
 "nbformat": 4,
 "nbformat_minor": 5
}
